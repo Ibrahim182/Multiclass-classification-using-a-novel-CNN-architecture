{
  "cells": [
    {
      "cell_type": "markdown",
      "source": [
        "## Connect to drive"
      ],
      "metadata": {
        "id": "NQiOlTihFhgB"
      }
    },
    {
      "cell_type": "code",
      "source": [
        "from google.colab import drive\n",
        "drive.mount('/gdrive')\n",
        "%cd /gdrive"
      ],
      "metadata": {
        "colab": {
          "base_uri": "https://localhost:8080/"
        },
        "id": "axLYRKIoiVp-",
        "outputId": "98f4cc8a-7393-4ea7-82de-688bca244802"
      },
      "execution_count": 1,
      "outputs": [
        {
          "output_type": "stream",
          "name": "stdout",
          "text": [
            "Mounted at /gdrive\n",
            "/gdrive\n"
          ]
        }
      ]
    },
    {
      "cell_type": "markdown",
      "source": [
        "## libraries"
      ],
      "metadata": {
        "id": "HIiKYilvFkgQ"
      }
    },
    {
      "cell_type": "code",
      "execution_count": 2,
      "metadata": {
        "id": "XHHEJIVNffmD"
      },
      "outputs": [],
      "source": [
        "import numpy as np\n",
        "import pandas as pd\n",
        "import os\n",
        "import seaborn as sns\n",
        "import cv2\n",
        "from PIL import Image\n",
        "import glob as gb\n",
        "from tensorflow.keras import layers, models\n",
        "from sklearn.model_selection import train_test_split\n",
        "from keras.utils import np_utils\n",
        "import matplotlib.pyplot as plt\n",
        "from tensorflow.keras.layers import MaxPooling2D, Conv2D, MaxPool2D, Dense, Flatten, Input, BatchNormalization, Dropout\n",
        "import tensorflow as tf\n",
        "from sklearn.metrics import classification_report, confusion_matrix, accuracy_score, f1_score, precision_score, recall_score\n",
        "sns.set(rc={'figure.figsize':(15,10)})"
      ]
    },
    {
      "cell_type": "markdown",
      "source": [
        "## get data from drive and append into list"
      ],
      "metadata": {
        "id": "yrt3vfggE7P3"
      }
    },
    {
      "cell_type": "code",
      "source": [
        "x = []\n",
        "y = []"
      ],
      "metadata": {
        "id": "oMdUC2km5E77"
      },
      "execution_count": 13,
      "outputs": []
    },
    {
      "cell_type": "code",
      "execution_count": 14,
      "metadata": {
        "colab": {
          "base_uri": "https://localhost:8080/"
        },
        "id": "kXgEUm4fffmJ",
        "outputId": "947d7a8b-8a07-4ee4-efb6-dec0a4faa6b6"
      },
      "outputs": [
        {
          "output_type": "stream",
          "name": "stdout",
          "text": [
            "scissors\n",
            "paper\n",
            "rock\n"
          ]
        }
      ],
      "source": [
        "class_label = 0\n",
        "test = '/gdrive/My Drive/Rock-Paper-Scissors new/train/'\n",
        "for folder in  os.listdir(test):\n",
        "    print(folder)\n",
        "    files = gb.glob(pathname=str( test + folder + '/*.png'))\n",
        "    # print(files)\n",
        "    for image in files:\n",
        "        # print(image)\n",
        "        im = Image.open(image)\n",
        "        data = np.array(im)\n",
        "        data = data[:,:,0]\n",
        "        image_array = cv2.resize(data , (227,227))\n",
        "        x.append(list(image_array))\n",
        "        y.append(class_label)\n",
        "    class_label = class_label + 1"
      ]
    },
    {
      "cell_type": "code",
      "execution_count": 15,
      "metadata": {
        "colab": {
          "base_uri": "https://localhost:8080/"
        },
        "id": "8wxCWxljffmL",
        "outputId": "ac37a06b-0d26-4d9b-cb6d-d2971a5a0108"
      },
      "outputs": [
        {
          "output_type": "stream",
          "name": "stdout",
          "text": [
            "paper\n",
            "scissors\n",
            "rock\n"
          ]
        }
      ],
      "source": [
        "class_label = 0\n",
        "test = \"/gdrive/My Drive/Rock-Paper-Scissors new/test/\"\n",
        "for folder in  os.listdir(test):\n",
        "    print(folder)\n",
        "    files = gb.glob(pathname=str( test + folder + '/*.png'))\n",
        "    # print(files)\n",
        "    for image in files:\n",
        "        # print(image)\n",
        "        im = Image.open(image)\n",
        "        data = np.array(im)\n",
        "        data = data[:,:,0]\n",
        "        image_array = cv2.resize(data , (227,227))\n",
        "        x.append(list(image_array))\n",
        "        y.append(class_label)\n",
        "    class_label = class_label + 1"
      ]
    },
    {
      "cell_type": "markdown",
      "source": [
        "## Convert to numpy array"
      ],
      "metadata": {
        "id": "qduAlZwKF0_J"
      }
    },
    {
      "cell_type": "code",
      "source": [
        "x = np.array(x)\n",
        "y = np.array(y)\n",
        "print(x.shape)\n",
        "print(y.shape)"
      ],
      "metadata": {
        "colab": {
          "base_uri": "https://localhost:8080/"
        },
        "id": "Qn9RTscPGfQa",
        "outputId": "2cb56321-ca6d-47a3-fdec-9ec70219e72e"
      },
      "execution_count": 17,
      "outputs": [
        {
          "output_type": "stream",
          "name": "stdout",
          "text": [
            "(2892, 227, 227)\n",
            "(2892,)\n"
          ]
        }
      ]
    },
    {
      "cell_type": "markdown",
      "source": [
        "# Scale"
      ],
      "metadata": {
        "id": "oI3DRtZwF3ZJ"
      }
    },
    {
      "cell_type": "code",
      "execution_count": 18,
      "metadata": {
        "id": "22WlwmdvffmN"
      },
      "outputs": [],
      "source": [
        "x = x/255"
      ]
    },
    {
      "cell_type": "code",
      "source": [
        "y"
      ],
      "metadata": {
        "colab": {
          "base_uri": "https://localhost:8080/"
        },
        "id": "Ymo4eCHPA6eP",
        "outputId": "02ac3239-2839-4152-db20-41989f19fd58"
      },
      "execution_count": 19,
      "outputs": [
        {
          "output_type": "execute_result",
          "data": {
            "text/plain": [
              "array([0, 0, 0, ..., 2, 2, 2])"
            ]
          },
          "metadata": {},
          "execution_count": 19
        }
      ]
    },
    {
      "cell_type": "markdown",
      "source": [
        "## Split data"
      ],
      "metadata": {
        "id": "fagCWCUkF7EY"
      }
    },
    {
      "cell_type": "code",
      "source": [
        "x_train, xtest, y_train, ytest = train_test_split(x, y, test_size=0.3, random_state=42, stratify=y)"
      ],
      "metadata": {
        "id": "HJ_k1eQO7qJL"
      },
      "execution_count": 20,
      "outputs": []
    },
    {
      "cell_type": "markdown",
      "source": [
        "# apply dummy to y_train "
      ],
      "metadata": {
        "id": "0F0qldY6F9Zx"
      }
    },
    {
      "cell_type": "code",
      "source": [
        "y_train = np_utils.to_categorical(y_train)"
      ],
      "metadata": {
        "id": "g-OHboeF-cmM"
      },
      "execution_count": 21,
      "outputs": []
    },
    {
      "cell_type": "code",
      "source": [
        "y_train"
      ],
      "metadata": {
        "colab": {
          "base_uri": "https://localhost:8080/"
        },
        "id": "XL9lzxZf-pGU",
        "outputId": "ae55e50d-34fb-43d3-ddd8-c8f81151fbaa"
      },
      "execution_count": 22,
      "outputs": [
        {
          "output_type": "execute_result",
          "data": {
            "text/plain": [
              "array([[1., 0., 0.],\n",
              "       [0., 1., 0.],\n",
              "       [1., 0., 0.],\n",
              "       ...,\n",
              "       [0., 1., 0.],\n",
              "       [0., 0., 1.],\n",
              "       [1., 0., 0.]], dtype=float32)"
            ]
          },
          "metadata": {},
          "execution_count": 22
        }
      ]
    },
    {
      "cell_type": "markdown",
      "source": [
        "## Model architecture"
      ],
      "metadata": {
        "id": "HZqU1QBWGD3f"
      }
    },
    {
      "cell_type": "code",
      "source": [
        "model = models.Sequential()\n",
        "\n",
        "model.add(Input(shape=(227, 227, 1)))\n",
        "\n",
        "model.add(Conv2D(filters=64, kernel_size=(3,3), activation='relu'))\n",
        "model.add(BatchNormalization())\n",
        "model.add(MaxPool2D(pool_size=(3,3)))\n",
        "\n",
        "model.add(Conv2D(filters=64, kernel_size=(3,3), activation='relu'))\n",
        "model.add(BatchNormalization())\n",
        "model.add(MaxPool2D(pool_size=(3,3)))\n",
        "\n",
        "model.add(Dropout(0.5))\n",
        "\n",
        "model.add(Flatten())\n",
        "\n",
        "model.add(Dense(3, activation = \"softmax\"))\n",
        "optimizer = tf.keras.optimizers.Adam(learning_rate=0.0003)\n",
        "\n",
        "model.compile(optimizer = optimizer, loss = \"categorical_crossentropy\", metrics=[\"accuracy\"])"
      ],
      "metadata": {
        "id": "ZausHvGsIT0v"
      },
      "execution_count": 23,
      "outputs": []
    },
    {
      "cell_type": "code",
      "source": [
        "history = model.fit(x_train,y_train, batch_size= 10, epochs = 30)"
      ],
      "metadata": {
        "colab": {
          "base_uri": "https://localhost:8080/"
        },
        "id": "-7utjfo3Jg5p",
        "outputId": "66f9d417-0f3a-4104-b347-a203e0c9ebc4"
      },
      "execution_count": 24,
      "outputs": [
        {
          "output_type": "stream",
          "name": "stdout",
          "text": [
            "Epoch 1/30\n",
            "203/203 [==============================] - 15s 23ms/step - loss: 0.5545 - accuracy: 0.8646\n",
            "Epoch 2/30\n",
            "203/203 [==============================] - 5s 23ms/step - loss: 0.1017 - accuracy: 0.9699\n",
            "Epoch 3/30\n",
            "203/203 [==============================] - 5s 23ms/step - loss: 0.0797 - accuracy: 0.9807\n",
            "Epoch 4/30\n",
            "203/203 [==============================] - 5s 23ms/step - loss: 0.0664 - accuracy: 0.9817\n",
            "Epoch 5/30\n",
            "203/203 [==============================] - 5s 23ms/step - loss: 0.0366 - accuracy: 0.9891\n",
            "Epoch 6/30\n",
            "203/203 [==============================] - 5s 23ms/step - loss: 0.0400 - accuracy: 0.9911\n",
            "Epoch 7/30\n",
            "203/203 [==============================] - 5s 23ms/step - loss: 0.0445 - accuracy: 0.9901\n",
            "Epoch 8/30\n",
            "203/203 [==============================] - 5s 23ms/step - loss: 0.0161 - accuracy: 0.9926\n",
            "Epoch 9/30\n",
            "203/203 [==============================] - 5s 23ms/step - loss: 0.0227 - accuracy: 0.9936\n",
            "Epoch 10/30\n",
            "203/203 [==============================] - 5s 23ms/step - loss: 0.0480 - accuracy: 0.9906\n",
            "Epoch 11/30\n",
            "203/203 [==============================] - 5s 23ms/step - loss: 0.0584 - accuracy: 0.9886\n",
            "Epoch 12/30\n",
            "203/203 [==============================] - 5s 23ms/step - loss: 0.0348 - accuracy: 0.9936\n",
            "Epoch 13/30\n",
            "203/203 [==============================] - 5s 23ms/step - loss: 0.0104 - accuracy: 0.9980\n",
            "Epoch 14/30\n",
            "203/203 [==============================] - 5s 23ms/step - loss: 0.0132 - accuracy: 0.9975\n",
            "Epoch 15/30\n",
            "203/203 [==============================] - 5s 23ms/step - loss: 0.0039 - accuracy: 0.9985\n",
            "Epoch 16/30\n",
            "203/203 [==============================] - 5s 23ms/step - loss: 0.0074 - accuracy: 0.9990\n",
            "Epoch 17/30\n",
            "203/203 [==============================] - 5s 23ms/step - loss: 1.1607e-04 - accuracy: 1.0000\n",
            "Epoch 18/30\n",
            "203/203 [==============================] - 5s 23ms/step - loss: 7.2717e-04 - accuracy: 0.9995\n",
            "Epoch 19/30\n",
            "203/203 [==============================] - 5s 23ms/step - loss: 0.0075 - accuracy: 0.9980\n",
            "Epoch 20/30\n",
            "203/203 [==============================] - 5s 23ms/step - loss: 0.0018 - accuracy: 0.9985\n",
            "Epoch 21/30\n",
            "203/203 [==============================] - 5s 23ms/step - loss: 0.0251 - accuracy: 0.9936\n",
            "Epoch 22/30\n",
            "203/203 [==============================] - 5s 23ms/step - loss: 0.0861 - accuracy: 0.9857\n",
            "Epoch 23/30\n",
            "203/203 [==============================] - 5s 23ms/step - loss: 0.0772 - accuracy: 0.9881\n",
            "Epoch 24/30\n",
            "203/203 [==============================] - 5s 23ms/step - loss: 0.0299 - accuracy: 0.9936\n",
            "Epoch 25/30\n",
            "203/203 [==============================] - 5s 23ms/step - loss: 0.0359 - accuracy: 0.9946\n",
            "Epoch 26/30\n",
            "203/203 [==============================] - 5s 23ms/step - loss: 0.0169 - accuracy: 0.9980\n",
            "Epoch 27/30\n",
            "203/203 [==============================] - 5s 23ms/step - loss: 0.0151 - accuracy: 0.9960\n",
            "Epoch 28/30\n",
            "203/203 [==============================] - 5s 23ms/step - loss: 0.0033 - accuracy: 0.9990\n",
            "Epoch 29/30\n",
            "203/203 [==============================] - 5s 23ms/step - loss: 7.7679e-05 - accuracy: 1.0000\n",
            "Epoch 30/30\n",
            "203/203 [==============================] - 5s 23ms/step - loss: 8.9014e-04 - accuracy: 0.9995\n"
          ]
        }
      ]
    },
    {
      "cell_type": "markdown",
      "source": [
        "# Evaluate data"
      ],
      "metadata": {
        "id": "p6705Hq2GOsB"
      }
    },
    {
      "cell_type": "markdown",
      "source": [
        "## loss and accuracy plot"
      ],
      "metadata": {
        "id": "St_1QSHkG5bJ"
      }
    },
    {
      "cell_type": "code",
      "source": [
        "#plot the accuracy\n",
        "history_df = pd.DataFrame(history.history)\n",
        "plt.plot(history_df['accuracy'], label='accuracy')\n",
        "plt.legend();"
      ],
      "metadata": {
        "colab": {
          "base_uri": "https://localhost:8080/",
          "height": 594
        },
        "id": "VYy_rJkDsLxF",
        "outputId": "f6e727ef-d9ed-4ca6-866b-a9568d5029b3"
      },
      "execution_count": 25,
      "outputs": [
        {
          "output_type": "display_data",
          "data": {
            "text/plain": [
              "<Figure size 1080x720 with 1 Axes>"
            ],
            "image/png": "[encoded data removed]"
          },
          "metadata": {}
        }
      ]
    },
    {
      "cell_type": "code",
      "source": [
        "#plot the loss\n",
        "history_df = pd.DataFrame(history.history)\n",
        "plt.plot(history_df['loss'], label='loss')\n",
        "plt.legend()"
      ],
      "metadata": {
        "id": "pZKd4FQpsVfd",
        "colab": {
          "base_uri": "https://localhost:8080/",
          "height": 611
        },
        "outputId": "df1de300-71c1-4ca5-ca4d-26ce10947dbd"
      },
      "execution_count": 26,
      "outputs": [
        {
          "output_type": "execute_result",
          "data": {
            "text/plain": [
              "<matplotlib.legend.Legend at 0x7f1115c105d0>"
            ]
          },
          "metadata": {},
          "execution_count": 26
        },
        {
          "output_type": "display_data",
          "data": {
            "text/plain": [
              "<Figure size 1080x720 with 1 Axes>"
            ],
            "image/png": "[encoded data removed]"
          },
          "metadata": {}
        }
      ]
    },
    {
      "cell_type": "markdown",
      "source": [
        "## Check evalute in train and test data"
      ],
      "metadata": {
        "id": "e4doVdigG8en"
      }
    },
    {
      "cell_type": "code",
      "source": [
        "# Train\n",
        "loss, acc = model.evaluate(x_train, y_train)\n",
        "print('Train')\n",
        "print(f'loss : {loss}')\n",
        "print(f'acc : {acc*100}')"
      ],
      "metadata": {
        "colab": {
          "base_uri": "https://localhost:8080/"
        },
        "id": "XdER98egBIHY",
        "outputId": "dac13ad8-100a-44f4-9097-fe95a931febd"
      },
      "execution_count": 27,
      "outputs": [
        {
          "output_type": "stream",
          "name": "stdout",
          "text": [
            "64/64 [==============================] - 2s 30ms/step - loss: 2.9230e-07 - accuracy: 1.0000\n",
            "Train\n",
            "loss : 2.922998589838244e-07\n",
            "acc : 100.0\n"
          ]
        }
      ]
    },
    {
      "cell_type": "code",
      "source": [
        "# Test\n",
        "loss, acc = model.evaluate(xtest, np_utils.to_categorical(ytest))\n",
        "print('Test')\n",
        "print(f'loss : {loss}')\n",
        "print(f'acc : {acc*100}')"
      ],
      "metadata": {
        "colab": {
          "base_uri": "https://localhost:8080/"
        },
        "id": "ijtmayLW7AoE",
        "outputId": "c56a093e-20ab-4a02-effe-bfe675558ccf"
      },
      "execution_count": 28,
      "outputs": [
        {
          "output_type": "stream",
          "name": "stdout",
          "text": [
            "28/28 [==============================] - 1s 29ms/step - loss: 0.0487 - accuracy: 0.9954\n",
            "Test\n",
            "loss : 0.04873378947377205\n",
            "acc : 99.53917264938354\n"
          ]
        }
      ]
    },
    {
      "cell_type": "code",
      "source": [
        "pred = model.predict(xtest)\n",
        "pred"
      ],
      "metadata": {
        "colab": {
          "base_uri": "https://localhost:8080/"
        },
        "id": "uhyXplGH7l3B",
        "outputId": "56df587f-d162-49bc-ff4f-dbc854809b55"
      },
      "execution_count": 29,
      "outputs": [
        {
          "output_type": "execute_result",
          "data": {
            "text/plain": [
              "array([[1.0000000e+00, 1.2135808e-33, 6.7512520e-32],\n",
              "       [1.0000000e+00, 1.1692270e-35, 0.0000000e+00],\n",
              "       [1.0000000e+00, 2.2152987e-30, 8.9857756e-33],\n",
              "       ...,\n",
              "       [6.0701518e-21, 6.2324299e-13, 1.0000000e+00],\n",
              "       [1.7155106e-08, 2.8388224e-13, 1.0000000e+00],\n",
              "       [1.0000000e+00, 9.2464425e-16, 7.7363828e-27]], dtype=float32)"
            ]
          },
          "metadata": {},
          "execution_count": 29
        }
      ]
    },
    {
      "cell_type": "code",
      "source": [
        "prediction = np.argmax(pred, axis=-1)\n",
        "prediction"
      ],
      "metadata": {
        "colab": {
          "base_uri": "https://localhost:8080/"
        },
        "id": "7tvy-pVT7s03",
        "outputId": "af7d0152-4357-41cc-bcaf-bc64b803d322"
      },
      "execution_count": 30,
      "outputs": [
        {
          "output_type": "execute_result",
          "data": {
            "text/plain": [
              "array([0, 0, 0, 0, 0, 1, 2, 1, 1, 1, 0, 1, 2, 1, 0, 1, 1, 2, 0, 1, 1, 2,\n",
              "       0, 1, 1, 1, 2, 0, 2, 2, 0, 1, 0, 1, 2, 2, 2, 0, 1, 0, 1, 0, 0, 0,\n",
              "       0, 1, 0, 1, 1, 2, 0, 0, 1, 1, 1, 0, 2, 0, 1, 1, 1, 2, 0, 0, 1, 2,\n",
              "       1, 0, 2, 0, 0, 0, 0, 1, 0, 2, 1, 2, 0, 1, 1, 1, 1, 2, 0, 2, 0, 1,\n",
              "       1, 0, 2, 1, 0, 2, 1, 0, 1, 0, 2, 2, 2, 2, 1, 2, 0, 0, 2, 1, 0, 1,\n",
              "       1, 0, 0, 1, 0, 2, 2, 1, 1, 2, 0, 0, 1, 0, 1, 1, 0, 1, 1, 2, 2, 2,\n",
              "       2, 0, 1, 0, 2, 2, 1, 2, 1, 0, 1, 0, 1, 0, 0, 1, 0, 2, 1, 1, 0, 1,\n",
              "       1, 1, 1, 0, 0, 0, 2, 1, 0, 1, 1, 2, 2, 1, 2, 1, 2, 1, 0, 2, 1, 1,\n",
              "       0, 1, 2, 0, 1, 1, 1, 1, 1, 2, 2, 1, 2, 0, 1, 0, 0, 1, 0, 2, 1, 1,\n",
              "       0, 1, 0, 0, 2, 1, 0, 1, 0, 1, 2, 2, 1, 2, 1, 2, 0, 2, 1, 1, 2, 0,\n",
              "       0, 0, 1, 2, 0, 2, 2, 2, 0, 1, 1, 0, 1, 1, 1, 0, 2, 1, 2, 1, 2, 2,\n",
              "       2, 2, 2, 0, 0, 2, 1, 2, 1, 2, 1, 2, 2, 0, 2, 0, 2, 1, 2, 2, 0, 0,\n",
              "       1, 1, 1, 1, 2, 2, 2, 2, 0, 2, 1, 1, 0, 0, 1, 1, 2, 0, 1, 1, 2, 2,\n",
              "       1, 1, 1, 2, 0, 2, 2, 2, 2, 2, 1, 1, 2, 0, 1, 1, 1, 0, 1, 2, 1, 0,\n",
              "       1, 2, 0, 2, 0, 1, 2, 2, 2, 2, 0, 2, 2, 0, 0, 2, 0, 1, 0, 2, 0, 1,\n",
              "       1, 1, 2, 2, 1, 1, 2, 1, 1, 0, 1, 2, 2, 2, 2, 1, 1, 0, 1, 0, 2, 1,\n",
              "       2, 0, 2, 2, 2, 2, 1, 0, 1, 1, 0, 0, 1, 1, 0, 0, 1, 2, 2, 1, 2, 1,\n",
              "       0, 0, 1, 1, 2, 1, 2, 2, 0, 2, 1, 0, 0, 2, 1, 2, 0, 1, 0, 1, 0, 2,\n",
              "       2, 0, 1, 2, 0, 0, 1, 0, 2, 0, 2, 1, 2, 2, 2, 0, 1, 2, 2, 0, 2, 1,\n",
              "       1, 2, 1, 2, 0, 2, 2, 2, 1, 1, 0, 0, 1, 1, 0, 0, 0, 1, 2, 2, 2, 0,\n",
              "       0, 1, 0, 2, 2, 2, 1, 2, 0, 1, 2, 2, 1, 2, 2, 0, 0, 0, 2, 2, 0, 0,\n",
              "       2, 2, 2, 0, 1, 2, 2, 1, 2, 1, 1, 2, 1, 2, 2, 1, 1, 0, 1, 1, 1, 1,\n",
              "       0, 0, 2, 1, 1, 2, 2, 2, 0, 1, 1, 2, 2, 1, 0, 0, 1, 2, 2, 2, 1, 2,\n",
              "       0, 1, 2, 0, 0, 1, 0, 0, 2, 2, 2, 1, 1, 0, 1, 1, 1, 0, 2, 0, 1, 0,\n",
              "       0, 0, 0, 2, 0, 2, 0, 2, 1, 0, 2, 1, 2, 1, 2, 1, 2, 0, 1, 1, 1, 1,\n",
              "       2, 0, 2, 0, 0, 0, 2, 2, 0, 0, 0, 2, 0, 2, 1, 2, 2, 0, 2, 1, 0, 1,\n",
              "       0, 2, 0, 2, 2, 0, 0, 1, 0, 0, 2, 2, 2, 0, 1, 2, 1, 1, 2, 2, 1, 2,\n",
              "       1, 1, 2, 2, 0, 0, 0, 0, 1, 2, 2, 2, 2, 2, 0, 0, 2, 0, 0, 1, 2, 1,\n",
              "       1, 2, 1, 1, 2, 0, 2, 0, 1, 1, 2, 2, 0, 2, 0, 2, 1, 2, 2, 0, 2, 0,\n",
              "       0, 1, 0, 1, 2, 0, 1, 1, 2, 0, 0, 1, 0, 0, 1, 1, 1, 2, 2, 2, 1, 2,\n",
              "       1, 2, 2, 1, 2, 0, 0, 2, 1, 0, 1, 0, 0, 1, 2, 1, 0, 0, 0, 2, 2, 2,\n",
              "       2, 1, 0, 2, 1, 1, 0, 0, 0, 1, 0, 2, 2, 2, 0, 1, 0, 1, 2, 0, 0, 2,\n",
              "       1, 0, 1, 0, 1, 0, 2, 2, 0, 0, 0, 1, 1, 1, 0, 1, 1, 0, 2, 0, 0, 2,\n",
              "       0, 1, 0, 1, 2, 1, 0, 2, 1, 1, 1, 2, 0, 0, 0, 2, 0, 2, 1, 2, 0, 0,\n",
              "       0, 1, 1, 0, 1, 0, 0, 1, 0, 1, 2, 1, 0, 0, 1, 0, 1, 0, 2, 1, 1, 1,\n",
              "       0, 1, 2, 1, 0, 0, 0, 2, 2, 1, 0, 1, 0, 2, 0, 1, 0, 0, 0, 1, 0, 0,\n",
              "       2, 2, 2, 0, 1, 2, 1, 2, 1, 0, 2, 2, 2, 1, 1, 0, 0, 1, 1, 1, 2, 0,\n",
              "       2, 0, 2, 1, 2, 1, 0, 1, 2, 2, 0, 0, 2, 2, 0, 2, 1, 0, 2, 0, 0, 0,\n",
              "       1, 0, 0, 0, 0, 0, 0, 0, 1, 2, 2, 0, 1, 2, 1, 2, 2, 1, 0, 0, 2, 0,\n",
              "       2, 2, 1, 1, 2, 2, 2, 2, 2, 0])"
            ]
          },
          "metadata": {},
          "execution_count": 30
        }
      ]
    },
    {
      "cell_type": "markdown",
      "source": [
        "## Confusion matrix"
      ],
      "metadata": {
        "id": "SiS4FbWeGkTa"
      }
    },
    {
      "cell_type": "code",
      "source": [
        "sns.heatmap(confusion_matrix(prediction, ytest), annot=True, fmt='1', cmap='Blues');"
      ],
      "metadata": {
        "colab": {
          "base_uri": "https://localhost:8080/",
          "height": 594
        },
        "id": "O_Zb3bZy9NJV",
        "outputId": "9dbb39c0-03b0-4068-bf43-3e81409b51e7"
      },
      "execution_count": 31,
      "outputs": [
        {
          "output_type": "display_data",
          "data": {
            "text/plain": [
              "<Figure size 1080x720 with 2 Axes>"
            ],
            "image/png": "[encoded data removed]"
          },
          "metadata": {}
        }
      ]
    },
    {
      "cell_type": "markdown",
      "source": [
        "## Recall and Precision"
      ],
      "metadata": {
        "id": "RnX6TImZGzVS"
      }
    },
    {
      "cell_type": "code",
      "source": [
        "print('Model Recall score  : {0:0.4f}'. format(recall_score(ytest, prediction,average='weighted')))\n",
        "print('Model Precision  : {0:0.4f}'. format(precision_score(ytest, prediction,average='weighted')))"
      ],
      "metadata": {
        "id": "8AeVuhFEEnr8",
        "colab": {
          "base_uri": "https://localhost:8080/"
        },
        "outputId": "f50434cc-272c-4944-9afd-a7ddd04fc219"
      },
      "execution_count": 32,
      "outputs": [
        {
          "output_type": "stream",
          "name": "stdout",
          "text": [
            "Model Recall score  : 0.9954\n",
            "Model Precision  : 0.9955\n"
          ]
        }
      ]
    },
    {
      "cell_type": "code",
      "source": [
        "print(classification_report(ytest,prediction))"
      ],
      "metadata": {
        "colab": {
          "base_uri": "https://localhost:8080/"
        },
        "id": "8iYxQEnJ8wX3",
        "outputId": "f456fc55-93eb-41a1-90a2-d4e5e0a39369"
      },
      "execution_count": 33,
      "outputs": [
        {
          "output_type": "stream",
          "name": "stdout",
          "text": [
            "              precision    recall  f1-score   support\n",
            "\n",
            "           0       1.00      0.99      0.99       289\n",
            "           1       0.99      1.00      0.99       289\n",
            "           2       1.00      1.00      1.00       290\n",
            "\n",
            "    accuracy                           1.00       868\n",
            "   macro avg       1.00      1.00      1.00       868\n",
            "weighted avg       1.00      1.00      1.00       868\n",
            "\n"
          ]
        }
      ]
    },
    {
      "cell_type": "code",
      "source": [
        ""
      ],
      "metadata": {
        "id": "VxIF0VCfA90q"
      },
      "execution_count": null,
      "outputs": []
    }
  ],
  "metadata": {
    "interpreter": {
      "hash": "4ac99a89178b347d2ddb51d1067ae4321247bd0ad96f9f2868f86d66c397a5fc"
    },
    "kernelspec": {
      "display_name": "Python 3.10.2 64-bit",
      "language": "python",
      "name": "python3"
    },
    "language_info": {
      "codemirror_mode": {
        "name": "ipython",
        "version": 3
      },
      "file_extension": ".py",
      "mimetype": "text/x-python",
      "name": "python",
      "nbconvert_exporter": "python",
      "pygments_lexer": "ipython3",
      "version": "3.10.2"
    },
    "orig_nbformat": 4,
    "colab": {
      "name": "Architecture like paper.ipynb",
      "provenance": [],
      "collapsed_sections": []
    },
    "accelerator": "GPU"
  },
  "nbformat": 4,
  "nbformat_minor": 0
}
