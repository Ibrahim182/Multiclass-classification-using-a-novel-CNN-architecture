{
  "cells": [
    {
      "cell_type": "markdown",
      "metadata": {
        "id": "NQiOlTihFhgB"
      },
      "source": [
        "## Connect to drive"
      ]
    },
    {
      "cell_type": "code",
      "execution_count": 1,
      "metadata": {
        "colab": {
          "base_uri": "https://localhost:8080/"
        },
        "id": "axLYRKIoiVp-",
        "outputId": "eb9d3717-796a-4b4d-cf33-29c427667b2d"
      },
      "outputs": [
        {
          "output_type": "stream",
          "name": "stdout",
          "text": [
            "Drive already mounted at /gdrive; to attempt to forcibly remount, call drive.mount(\"/gdrive\", force_remount=True).\n",
            "/gdrive\n"
          ]
        }
      ],
      "source": [
        "from google.colab import drive\n",
        "drive.mount('/gdrive')\n",
        "%cd /gdrive"
      ]
    },
    {
      "cell_type": "markdown",
      "metadata": {
        "id": "HIiKYilvFkgQ"
      },
      "source": [
        "## libraries"
      ]
    },
    {
      "cell_type": "code",
      "execution_count": 2,
      "metadata": {
        "id": "XHHEJIVNffmD"
      },
      "outputs": [],
      "source": [
        "import numpy as np\n",
        "import pandas as pd\n",
        "import os\n",
        "import seaborn as sns\n",
        "import cv2\n",
        "from PIL import Image\n",
        "import glob as gb\n",
        "from tensorflow.keras import models\n",
        "from sklearn.model_selection import train_test_split\n",
        "from keras.utils import np_utils\n",
        "import matplotlib.pyplot as plt\n",
        "from tensorflow.keras.layers import Conv2D, MaxPool2D, Dense, Flatten, Input, BatchNormalization, Dropout\n",
        "import tensorflow as tf\n",
        "from sklearn.metrics import classification_report, confusion_matrix, precision_score, recall_score\n",
        "sns.set(rc={'figure.figsize':(15,10)})"
      ]
    },
    {
      "cell_type": "markdown",
      "metadata": {
        "id": "yrt3vfggE7P3"
      },
      "source": [
        "# get the data"
      ]
    },
    {
      "cell_type": "code",
      "source": [
        "classes = ['NORMAL', 'PNEUMONIA']\n",
        "img_size = 227"
      ],
      "metadata": {
        "id": "miOcMKDI6Egq"
      },
      "execution_count": 3,
      "outputs": []
    },
    {
      "cell_type": "markdown",
      "source": [
        "### Function to get images"
      ],
      "metadata": {
        "id": "Gv5aHHow6F_t"
      }
    },
    {
      "cell_type": "code",
      "source": [
        "def get_images(path):\n",
        "  data = []\n",
        "  for label in classes:\n",
        "    images = gb.glob(pathname=str(path + label + '/*.jpeg'))\n",
        "    class_num = classes.index(label)\n",
        "    for image in images:\n",
        "      image_array = cv2.imread(os.path.join(path, image), cv2.IMREAD_GRAYSCALE)\n",
        "      width, height = Image.open(image).size\n",
        "      if width >= 227 and height >= 227:\n",
        "        resized_img = cv2.resize(image_array, (img_size, img_size))\n",
        "        data.append([resized_img, class_num])\n",
        "  return np.array(data)"
      ],
      "metadata": {
        "id": "nPuGQMKCfypN"
      },
      "execution_count": 4,
      "outputs": []
    },
    {
      "cell_type": "code",
      "source": [
        "train = get_images('/gdrive/My Drive/chest_xray/train/')\n",
        "test = get_images('/gdrive/My Drive/chest_xray/test/')\n",
        "val = get_images('/gdrive/My Drive/chest_xray/val/')"
      ],
      "metadata": {
        "colab": {
          "base_uri": "https://localhost:8080/"
        },
        "id": "NyWRxlGxpJki",
        "outputId": "83663347-a3eb-405b-9b4d-3033b912372b"
      },
      "execution_count": 5,
      "outputs": [
        {
          "output_type": "stream",
          "name": "stderr",
          "text": [
            "/usr/local/lib/python3.7/dist-packages/ipykernel_launcher.py:12: VisibleDeprecationWarning: Creating an ndarray from ragged nested sequences (which is a list-or-tuple of lists-or-tuples-or ndarrays with different lengths or shapes) is deprecated. If you meant to do this, you must specify 'dtype=object' when creating the ndarray.\n",
            "  if sys.path[0] == '':\n"
          ]
        }
      ]
    },
    {
      "cell_type": "code",
      "source": [
        "x = []\n",
        "y = []\n",
        "\n",
        "for feature, label in train:\n",
        "    x.append(feature)\n",
        "    y.append(label)\n",
        "\n",
        "for feature, label in test:\n",
        "    x.append(feature)\n",
        "    y.append(label)\n",
        "    \n",
        "for feature, label in val:\n",
        "    x.append(feature)\n",
        "    y.append(label)"
      ],
      "metadata": {
        "id": "Z6eic5LBqaQa"
      },
      "execution_count": 6,
      "outputs": []
    },
    {
      "cell_type": "markdown",
      "source": [
        "# Convert to array and scale"
      ],
      "metadata": {
        "id": "UHIS4r47u_mg"
      }
    },
    {
      "cell_type": "code",
      "source": [
        "x = np.array(x) / 255"
      ],
      "metadata": {
        "id": "s1r_t_NBqaLp"
      },
      "execution_count": 7,
      "outputs": []
    },
    {
      "cell_type": "code",
      "source": [
        "y = np.array(y)"
      ],
      "metadata": {
        "id": "dIzcA3TC0tAZ"
      },
      "execution_count": 8,
      "outputs": []
    },
    {
      "cell_type": "code",
      "execution_count": 9,
      "metadata": {
        "colab": {
          "base_uri": "https://localhost:8080/"
        },
        "id": "Ymo4eCHPA6eP",
        "outputId": "90890a6e-481c-4671-dc0e-d31b2f64610a"
      },
      "outputs": [
        {
          "output_type": "execute_result",
          "data": {
            "text/plain": [
              "array([0, 0, 0, 0, 0, 0, 0, 0, 0, 0])"
            ]
          },
          "metadata": {},
          "execution_count": 9
        }
      ],
      "source": [
        "y[:10]"
      ]
    },
    {
      "cell_type": "code",
      "source": [
        "x.shape"
      ],
      "metadata": {
        "colab": {
          "base_uri": "https://localhost:8080/"
        },
        "id": "SjJNmvRhvXYx",
        "outputId": "ddfc860b-e468-4b5c-8bfd-7bf23f87c26b"
      },
      "execution_count": 10,
      "outputs": [
        {
          "output_type": "execute_result",
          "data": {
            "text/plain": [
              "(5815, 227, 227)"
            ]
          },
          "metadata": {},
          "execution_count": 10
        }
      ]
    },
    {
      "cell_type": "markdown",
      "metadata": {
        "id": "fagCWCUkF7EY"
      },
      "source": [
        "## Split data"
      ]
    },
    {
      "cell_type": "code",
      "execution_count": 11,
      "metadata": {
        "id": "HJ_k1eQO7qJL"
      },
      "outputs": [],
      "source": [
        "x_train, xtest, y_train, ytest = train_test_split(x, y, test_size=0.3, random_state=42, stratify=y)"
      ]
    },
    {
      "cell_type": "code",
      "source": [
        "y_train = np_utils.to_categorical(y_train)"
      ],
      "metadata": {
        "id": "Zdi6hniV6hjH"
      },
      "execution_count": 12,
      "outputs": []
    },
    {
      "cell_type": "markdown",
      "metadata": {
        "id": "HZqU1QBWGD3f"
      },
      "source": [
        "## Model architecture"
      ]
    },
    {
      "cell_type": "code",
      "execution_count": 13,
      "metadata": {
        "id": "ZausHvGsIT0v"
      },
      "outputs": [],
      "source": [
        "model = models.Sequential()\n",
        "\n",
        "model.add(Input(shape=(227, 227, 1)))\n",
        "\n",
        "model.add(Conv2D(filters=64, kernel_size=(3,3), activation='relu'))\n",
        "model.add(BatchNormalization())\n",
        "model.add(MaxPool2D(pool_size=(3,3)))\n",
        "\n",
        "model.add(Conv2D(filters=64, kernel_size=(3,3), activation='relu'))\n",
        "model.add(BatchNormalization())\n",
        "model.add(MaxPool2D(pool_size=(3,3)))\n",
        "\n",
        "model.add(Dropout(0.5))\n",
        "\n",
        "model.add(Flatten())\n",
        "\n",
        "model.add(Dense(2, activation = \"softmax\"))\n",
        "optimizer = tf.keras.optimizers.Adam(learning_rate=0.0003)\n",
        "\n",
        "model.compile(optimizer = optimizer, loss = \"categorical_crossentropy\", metrics=[\"accuracy\"])"
      ]
    },
    {
      "cell_type": "code",
      "execution_count": 14,
      "metadata": {
        "colab": {
          "base_uri": "https://localhost:8080/"
        },
        "id": "-7utjfo3Jg5p",
        "outputId": "18f8abae-c057-482d-a0ae-1aa279715fc6"
      },
      "outputs": [
        {
          "output_type": "stream",
          "name": "stdout",
          "text": [
            "Epoch 1/30\n",
            "407/407 [==============================] - 30s 50ms/step - loss: 0.4950 - accuracy: 0.9103\n",
            "Epoch 2/30\n",
            "407/407 [==============================] - 20s 50ms/step - loss: 0.4012 - accuracy: 0.9393\n",
            "Epoch 3/30\n",
            "407/407 [==============================] - 20s 50ms/step - loss: 0.4244 - accuracy: 0.9398\n",
            "Epoch 4/30\n",
            "407/407 [==============================] - 21s 51ms/step - loss: 0.4477 - accuracy: 0.9396\n",
            "Epoch 5/30\n",
            "407/407 [==============================] - 20s 50ms/step - loss: 0.3519 - accuracy: 0.9531\n",
            "Epoch 6/30\n",
            "407/407 [==============================] - 20s 50ms/step - loss: 0.2933 - accuracy: 0.9592\n",
            "Epoch 7/30\n",
            "407/407 [==============================] - 21s 50ms/step - loss: 0.3382 - accuracy: 0.9577\n",
            "Epoch 8/30\n",
            "407/407 [==============================] - 20s 50ms/step - loss: 0.2609 - accuracy: 0.9597\n",
            "Epoch 9/30\n",
            "407/407 [==============================] - 21s 50ms/step - loss: 0.3250 - accuracy: 0.9585\n",
            "Epoch 10/30\n",
            "407/407 [==============================] - 20s 50ms/step - loss: 0.4327 - accuracy: 0.9514\n",
            "Epoch 11/30\n",
            "407/407 [==============================] - 20s 50ms/step - loss: 0.3054 - accuracy: 0.9612\n",
            "Epoch 12/30\n",
            "407/407 [==============================] - 20s 50ms/step - loss: 0.3023 - accuracy: 0.9629\n",
            "Epoch 13/30\n",
            "407/407 [==============================] - 20s 50ms/step - loss: 0.3150 - accuracy: 0.9646\n",
            "Epoch 14/30\n",
            "407/407 [==============================] - 20s 50ms/step - loss: 0.3001 - accuracy: 0.9644\n",
            "Epoch 15/30\n",
            "407/407 [==============================] - 20s 50ms/step - loss: 0.2520 - accuracy: 0.9693\n",
            "Epoch 16/30\n",
            "407/407 [==============================] - 20s 50ms/step - loss: 0.2275 - accuracy: 0.9725\n",
            "Epoch 17/30\n",
            "407/407 [==============================] - 20s 50ms/step - loss: 0.2890 - accuracy: 0.9663\n",
            "Epoch 18/30\n",
            "407/407 [==============================] - 20s 50ms/step - loss: 0.2409 - accuracy: 0.9693\n",
            "Epoch 19/30\n",
            "407/407 [==============================] - 20s 50ms/step - loss: 0.1993 - accuracy: 0.9767\n",
            "Epoch 20/30\n",
            "407/407 [==============================] - 20s 50ms/step - loss: 0.2333 - accuracy: 0.9747\n",
            "Epoch 21/30\n",
            "407/407 [==============================] - 21s 50ms/step - loss: 0.2102 - accuracy: 0.9757\n",
            "Epoch 22/30\n",
            "407/407 [==============================] - 21s 51ms/step - loss: 0.1452 - accuracy: 0.9789\n",
            "Epoch 23/30\n",
            "407/407 [==============================] - 21s 50ms/step - loss: 0.1542 - accuracy: 0.9816\n",
            "Epoch 24/30\n",
            "407/407 [==============================] - 20s 50ms/step - loss: 0.1847 - accuracy: 0.9808\n",
            "Epoch 25/30\n",
            "407/407 [==============================] - 21s 50ms/step - loss: 0.1629 - accuracy: 0.9818\n",
            "Epoch 26/30\n",
            "407/407 [==============================] - 20s 50ms/step - loss: 0.1560 - accuracy: 0.9796\n",
            "Epoch 27/30\n",
            "407/407 [==============================] - 20s 50ms/step - loss: 0.1169 - accuracy: 0.9848\n",
            "Epoch 28/30\n",
            "407/407 [==============================] - 20s 50ms/step - loss: 0.1543 - accuracy: 0.9823\n",
            "Epoch 29/30\n",
            "407/407 [==============================] - 21s 50ms/step - loss: 0.1864 - accuracy: 0.9823\n",
            "Epoch 30/30\n",
            "407/407 [==============================] - 21s 51ms/step - loss: 0.1432 - accuracy: 0.9853\n"
          ]
        }
      ],
      "source": [
        "history = model.fit(x_train,y_train, batch_size= 10, epochs = 30)"
      ]
    },
    {
      "cell_type": "markdown",
      "metadata": {
        "id": "p6705Hq2GOsB"
      },
      "source": [
        "# Evaluate data"
      ]
    },
    {
      "cell_type": "markdown",
      "metadata": {
        "id": "St_1QSHkG5bJ"
      },
      "source": [
        "## loss and accuracy plot"
      ]
    },
    {
      "cell_type": "code",
      "execution_count": 15,
      "metadata": {
        "colab": {
          "base_uri": "https://localhost:8080/",
          "height": 594
        },
        "id": "VYy_rJkDsLxF",
        "outputId": "4d2e0d1e-3112-43e8-92eb-433d39e27930"
      },
      "outputs": [
        {
          "output_type": "display_data",
          "data": {
            "text/plain": [
              "<Figure size 1080x720 with 1 Axes>"
            ],
            "image/png": "[encoded data removed]"
          },
          "metadata": {}
        }
      ],
      "source": [
        "#plot the accuracy\n",
        "history_df = pd.DataFrame(history.history)\n",
        "plt.plot(history_df['accuracy'], label='accuracy')\n",
        "plt.legend();"
      ]
    },
    {
      "cell_type": "code",
      "execution_count": 16,
      "metadata": {
        "colab": {
          "base_uri": "https://localhost:8080/",
          "height": 611
        },
        "id": "pZKd4FQpsVfd",
        "outputId": "8b5b1789-1194-4d8d-e2c6-35c0492e0ef7"
      },
      "outputs": [
        {
          "output_type": "execute_result",
          "data": {
            "text/plain": [
              "<matplotlib.legend.Legend at 0x7f076002fb90>"
            ]
          },
          "metadata": {},
          "execution_count": 16
        },
        {
          "output_type": "display_data",
          "data": {
            "text/plain": [
              "<Figure size 1080x720 with 1 Axes>"
            ],
            "image/png": "[encoded data removed]"
          },
          "metadata": {}
        }
      ],
      "source": [
        "#plot the loss\n",
        "history_df = pd.DataFrame(history.history)\n",
        "plt.plot(history_df['loss'], label='loss')\n",
        "plt.legend()"
      ]
    },
    {
      "cell_type": "markdown",
      "metadata": {
        "id": "e4doVdigG8en"
      },
      "source": [
        "## Check evalute in train and test data"
      ]
    },
    {
      "cell_type": "code",
      "execution_count": 17,
      "metadata": {
        "colab": {
          "base_uri": "https://localhost:8080/"
        },
        "id": "XdER98egBIHY",
        "outputId": "be0676c1-e7d4-458c-c04e-1326e7c027a2"
      },
      "outputs": [
        {
          "output_type": "stream",
          "name": "stdout",
          "text": [
            "128/128 [==============================] - 7s 53ms/step - loss: 0.0883 - accuracy: 0.9850\n",
            "Train\n",
            "loss : 0.08834149688482285\n",
            "acc : 98.50122928619385\n"
          ]
        }
      ],
      "source": [
        "# Train\n",
        "loss, acc = model.evaluate(x_train, y_train)\n",
        "print('Train')\n",
        "print(f'loss : {loss}')\n",
        "print(f'acc : {acc*100}')"
      ]
    },
    {
      "cell_type": "code",
      "execution_count": 19,
      "metadata": {
        "colab": {
          "base_uri": "https://localhost:8080/"
        },
        "id": "ijtmayLW7AoE",
        "outputId": "f7963304-9030-4616-f9fe-ac25cb04cc05"
      },
      "outputs": [
        {
          "output_type": "stream",
          "name": "stdout",
          "text": [
            "55/55 [==============================] - 4s 63ms/step - loss: 1.2324 - accuracy: 0.9307\n",
            "Test\n",
            "loss : 1.2323752641677856\n",
            "acc : 93.06589961051941\n"
          ]
        }
      ],
      "source": [
        "# Test\n",
        "loss, acc = model.evaluate(xtest, np_utils.to_categorical(ytest))\n",
        "print('Test')\n",
        "print(f'loss : {loss}')\n",
        "print(f'acc : {acc*100}')"
      ]
    },
    {
      "cell_type": "code",
      "execution_count": 20,
      "metadata": {
        "colab": {
          "base_uri": "https://localhost:8080/"
        },
        "id": "uhyXplGH7l3B",
        "outputId": "bf2ad84c-a2ff-4aa8-b46d-461dcef70f61"
      },
      "outputs": [
        {
          "output_type": "execute_result",
          "data": {
            "text/plain": [
              "array([[1.00000000e+00, 3.43831154e-17],\n",
              "       [1.00000000e+00, 1.37460627e-25],\n",
              "       [1.06663745e-36, 1.00000000e+00],\n",
              "       ...,\n",
              "       [0.00000000e+00, 1.00000000e+00],\n",
              "       [3.96236727e-13, 1.00000000e+00],\n",
              "       [7.83407158e-05, 9.99921679e-01]], dtype=float32)"
            ]
          },
          "metadata": {},
          "execution_count": 20
        }
      ],
      "source": [
        "pred = model.predict(xtest)\n",
        "pred"
      ]
    },
    {
      "cell_type": "code",
      "execution_count": 21,
      "metadata": {
        "colab": {
          "base_uri": "https://localhost:8080/"
        },
        "id": "7tvy-pVT7s03",
        "outputId": "9984b094-91c1-4a8b-b976-20a99a795f10"
      },
      "outputs": [
        {
          "output_type": "execute_result",
          "data": {
            "text/plain": [
              "array([0, 0, 1, ..., 1, 1, 1])"
            ]
          },
          "metadata": {},
          "execution_count": 21
        }
      ],
      "source": [
        "prediction = np.argmax(pred, axis=-1)\n",
        "prediction"
      ]
    },
    {
      "cell_type": "markdown",
      "metadata": {
        "id": "SiS4FbWeGkTa"
      },
      "source": [
        "## Confusion matrix"
      ]
    },
    {
      "cell_type": "code",
      "execution_count": 22,
      "metadata": {
        "colab": {
          "base_uri": "https://localhost:8080/",
          "height": 594
        },
        "id": "O_Zb3bZy9NJV",
        "outputId": "9e8883e6-0721-4781-94cc-e37c62e65d85"
      },
      "outputs": [
        {
          "output_type": "display_data",
          "data": {
            "text/plain": [
              "<Figure size 1080x720 with 2 Axes>"
            ],
            "image/png": "[encoded data removed]"
          },
          "metadata": {}
        }
      ],
      "source": [
        "sns.heatmap(confusion_matrix(prediction, ytest), annot=True, fmt='1', cmap='Blues');"
      ]
    },
    {
      "cell_type": "markdown",
      "metadata": {
        "id": "RnX6TImZGzVS"
      },
      "source": [
        "## Recall and Precision"
      ]
    },
    {
      "cell_type": "code",
      "execution_count": 23,
      "metadata": {
        "colab": {
          "base_uri": "https://localhost:8080/"
        },
        "id": "8AeVuhFEEnr8",
        "outputId": "b1fb126b-ecf6-465b-f9e3-73c39b96b840"
      },
      "outputs": [
        {
          "output_type": "stream",
          "name": "stdout",
          "text": [
            "Model Recall score  : 0.9307\n",
            "Model Precision  : 0.9357\n"
          ]
        }
      ],
      "source": [
        "print('Model Recall score  : {0:0.4f}'. format(recall_score(ytest, prediction,average='weighted')))\n",
        "print('Model Precision  : {0:0.4f}'. format(precision_score(ytest, prediction,average='weighted')))"
      ]
    },
    {
      "cell_type": "code",
      "execution_count": 24,
      "metadata": {
        "colab": {
          "base_uri": "https://localhost:8080/"
        },
        "id": "8iYxQEnJ8wX3",
        "outputId": "b8f95fd4-fd12-49a9-ea80-6ee420dcb64d"
      },
      "outputs": [
        {
          "output_type": "stream",
          "name": "stdout",
          "text": [
            "              precision    recall  f1-score   support\n",
            "\n",
            "           0       0.83      0.94      0.88       475\n",
            "           1       0.98      0.93      0.95      1270\n",
            "\n",
            "    accuracy                           0.93      1745\n",
            "   macro avg       0.90      0.93      0.92      1745\n",
            "weighted avg       0.94      0.93      0.93      1745\n",
            "\n"
          ]
        }
      ],
      "source": [
        "print(classification_report(ytest,prediction))"
      ]
    },
    {
      "cell_type": "code",
      "source": [
        ""
      ],
      "metadata": {
        "id": "OG6xf_j6_fhD"
      },
      "execution_count": null,
      "outputs": []
    }
  ],
  "metadata": {
    "accelerator": "GPU",
    "colab": {
      "collapsed_sections": [],
      "name": "Same as Paper.ipynb",
      "provenance": []
    },
    "interpreter": {
      "hash": "4ac99a89178b347d2ddb51d1067ae4321247bd0ad96f9f2868f86d66c397a5fc"
    },
    "kernelspec": {
      "display_name": "Python 3.10.2 64-bit",
      "language": "python",
      "name": "python3"
    },
    "language_info": {
      "codemirror_mode": {
        "name": "ipython",
        "version": 3
      },
      "file_extension": ".py",
      "mimetype": "text/x-python",
      "name": "python",
      "nbconvert_exporter": "python",
      "pygments_lexer": "ipython3",
      "version": "3.10.2"
    },
    "orig_nbformat": 4
  },
  "nbformat": 4,
  "nbformat_minor": 0
}