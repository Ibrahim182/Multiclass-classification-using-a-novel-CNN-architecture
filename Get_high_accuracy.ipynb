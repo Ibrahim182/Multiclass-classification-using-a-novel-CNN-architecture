{
  "cells": [
    {
      "cell_type": "markdown",
      "metadata": {
        "id": "NQiOlTihFhgB"
      },
      "source": [
        "## Connect to drive"
      ]
    },
    {
      "cell_type": "code",
      "execution_count": 1,
      "metadata": {
        "colab": {
          "base_uri": "https://localhost:8080/"
        },
        "id": "axLYRKIoiVp-",
        "outputId": "efdf85af-bc6a-4324-f35b-f1013e0a6a9e"
      },
      "outputs": [
        {
          "name": "stdout",
          "output_type": "stream",
          "text": [
            "Drive already mounted at /gdrive; to attempt to forcibly remount, call drive.mount(\"/gdrive\", force_remount=True).\n",
            "/gdrive\n"
          ]
        }
      ],
      "source": [
        "from google.colab import drive\n",
        "drive.mount('/gdrive')\n",
        "%cd /gdrive"
      ]
    },
    {
      "cell_type": "markdown",
      "metadata": {
        "id": "HIiKYilvFkgQ"
      },
      "source": [
        "## libraries"
      ]
    },
    {
      "cell_type": "code",
      "execution_count": 2,
      "metadata": {
        "id": "XHHEJIVNffmD"
      },
      "outputs": [],
      "source": [
        "import numpy as np\n",
        "import pandas as pd\n",
        "import os\n",
        "import seaborn as sns\n",
        "import cv2\n",
        "from PIL import Image\n",
        "import glob as gb\n",
        "from tensorflow.keras import models\n",
        "from sklearn.model_selection import train_test_split\n",
        "from keras.utils import np_utils\n",
        "import matplotlib.pyplot as plt\n",
        "from tensorflow.keras.layers import Conv2D, MaxPool2D, Dense, Flatten, Input, BatchNormalization, Dropout, ZeroPadding2D, MaxPooling2D\n",
        "import tensorflow as tf\n",
        "from sklearn.metrics import classification_report, confusion_matrix, precision_score, recall_score\n",
        "sns.set(rc={'figure.figsize':(15,10)})"
      ]
    },
    {
      "cell_type": "markdown",
      "metadata": {
        "id": "yrt3vfggE7P3"
      },
      "source": [
        "# get the data"
      ]
    },
    {
      "cell_type": "code",
      "execution_count": 3,
      "metadata": {
        "id": "miOcMKDI6Egq"
      },
      "outputs": [],
      "source": [
        "classes = ['NORMAL', 'PNEUMONIA']\n",
        "img_size = 227"
      ]
    },
    {
      "cell_type": "markdown",
      "metadata": {
        "id": "Gv5aHHow6F_t"
      },
      "source": [
        "### Function to get images"
      ]
    },
    {
      "cell_type": "code",
      "execution_count": 4,
      "metadata": {
        "id": "nPuGQMKCfypN"
      },
      "outputs": [],
      "source": [
        "def get_images(path):\n",
        "  data = []\n",
        "  for label in classes:\n",
        "    # get all images in this file\n",
        "    images = gb.glob(pathname=str(path + label + '/*.jpeg'))\n",
        "    # get the index\n",
        "    class_num = classes.index(label)\n",
        "    # loop in all images\n",
        "    for image in images:\n",
        "      image_array = cv2.imread(os.path.join(path, image), cv2.IMREAD_GRAYSCALE)\n",
        "      # get the width and height of image\n",
        "      width, height = Image.open(image).size\n",
        "      # to check if all image could resize\n",
        "      if width >= 227 and height >= 227:\n",
        "        resized_img = cv2.resize(image_array, (img_size, img_size))\n",
        "        data.append([resized_img, class_num])\n",
        "  return np.array(data)"
      ]
    },
    {
      "cell_type": "code",
      "execution_count": 5,
      "metadata": {
        "colab": {
          "base_uri": "https://localhost:8080/"
        },
        "id": "NyWRxlGxpJki",
        "outputId": "8b54bf38-e521-47c7-c746-51cffaac6d0e"
      },
      "outputs": [
        {
          "name": "stderr",
          "output_type": "stream",
          "text": [
            "/usr/local/lib/python3.7/dist-packages/ipykernel_launcher.py:17: VisibleDeprecationWarning: Creating an ndarray from ragged nested sequences (which is a list-or-tuple of lists-or-tuples-or ndarrays with different lengths or shapes) is deprecated. If you meant to do this, you must specify 'dtype=object' when creating the ndarray.\n"
          ]
        }
      ],
      "source": [
        "train = get_images('/gdrive/My Drive/chest_xray/train/')\n",
        "test = get_images('/gdrive/My Drive/chest_xray/test/')\n",
        "val = get_images('/gdrive/My Drive/chest_xray/val/')"
      ]
    },
    {
      "cell_type": "markdown",
      "metadata": {
        "id": "AGtCnWFJYifL"
      },
      "source": [
        "# Get all images and append in one varibale for image and one for label"
      ]
    },
    {
      "cell_type": "code",
      "execution_count": 34,
      "metadata": {
        "id": "Z6eic5LBqaQa"
      },
      "outputs": [],
      "source": [
        "x = []\n",
        "y = []\n",
        "\n",
        "for feature, label in train:\n",
        "    x.append(feature)\n",
        "    y.append(label)\n",
        "\n",
        "for feature, label in test:\n",
        "    x.append(feature)\n",
        "    y.append(label)\n",
        "    \n",
        "for feature, label in val:\n",
        "    x.append(feature)\n",
        "    y.append(label)"
      ]
    },
    {
      "cell_type": "markdown",
      "metadata": {
        "id": "UHIS4r47u_mg"
      },
      "source": [
        "# Convert to array and scale"
      ]
    },
    {
      "cell_type": "code",
      "execution_count": 35,
      "metadata": {
        "id": "s1r_t_NBqaLp"
      },
      "outputs": [],
      "source": [
        "x = np.array(x) / 255"
      ]
    },
    {
      "cell_type": "code",
      "execution_count": 36,
      "metadata": {
        "id": "dIzcA3TC0tAZ"
      },
      "outputs": [],
      "source": [
        "y = np.array(y)"
      ]
    },
    {
      "cell_type": "code",
      "execution_count": 37,
      "metadata": {
        "colab": {
          "base_uri": "https://localhost:8080/",
          "height": 52
        },
        "id": "SjJNmvRhvXYx",
        "outputId": "ffd322df-eb7d-442b-f8b8-89f7310c0fef"
      },
      "outputs": [
        {
          "data": {
            "text/plain": [
              "(5815, 227, 227)"
            ]
          },
          "metadata": {},
          "output_type": "display_data"
        },
        {
          "data": {
            "text/plain": [
              "(5815,)"
            ]
          },
          "execution_count": 37,
          "metadata": {},
          "output_type": "execute_result"
        }
      ],
      "source": [
        "display(x.shape)\n",
        "y.shape"
      ]
    },
    {
      "cell_type": "markdown",
      "metadata": {
        "id": "vvc7seNW8vdY"
      },
      "source": [
        "# Reshap data"
      ]
    },
    {
      "cell_type": "code",
      "execution_count": 38,
      "metadata": {
        "colab": {
          "base_uri": "https://localhost:8080/"
        },
        "id": "P5x46--C8vCn",
        "outputId": "3ddd66fd-9310-42b6-b08a-849aff0a7ba8"
      },
      "outputs": [
        {
          "data": {
            "text/plain": [
              "(5815, 227, 227, 1)"
            ]
          },
          "execution_count": 38,
          "metadata": {},
          "output_type": "execute_result"
        }
      ],
      "source": [
        "x = x.reshape(-1, 227, 227, 1)\n",
        "x.shape"
      ]
    },
    {
      "cell_type": "markdown",
      "metadata": {
        "id": "fagCWCUkF7EY"
      },
      "source": [
        "## Split data"
      ]
    },
    {
      "cell_type": "code",
      "execution_count": 39,
      "metadata": {
        "id": "HJ_k1eQO7qJL"
      },
      "outputs": [],
      "source": [
        "x_train, xtest, y_train, ytest = train_test_split(x, y, test_size=0.2, random_state=42, stratify=y)"
      ]
    },
    {
      "cell_type": "code",
      "execution_count": 40,
      "metadata": {
        "id": "0MX0NgCkCLzz"
      },
      "outputs": [],
      "source": [
        "y_train = np_utils.to_categorical(y_train)"
      ]
    },
    {
      "cell_type": "markdown",
      "metadata": {
        "id": "HZqU1QBWGD3f"
      },
      "source": [
        "## Model architecture"
      ]
    },
    {
      "cell_type": "code",
      "execution_count": 49,
      "metadata": {
        "id": "zBcUefkX8-1o"
      },
      "outputs": [],
      "source": [
        "model = models.Sequential()\n",
        "\n",
        "model.add(Input(shape=(227, 227, 1)))\n",
        "\n",
        "model.add(ZeroPadding2D((1,1)))\n",
        "\n",
        "model.add(Conv2D(filters=64, kernel_size=(3,3), activation='relu'))\n",
        "model.add(BatchNormalization())\n",
        "model.add(MaxPool2D(pool_size=(3,3)))\n",
        "\n",
        "model.add(ZeroPadding2D((1,1)))\n",
        "\n",
        "model.add(Conv2D(filters=64, kernel_size=(3,3), activation='relu'))\n",
        "model.add(BatchNormalization())\n",
        "model.add(MaxPool2D(pool_size=(3,3)))\n",
        "\n",
        "model.add(ZeroPadding2D((1,1)))\n",
        "\n",
        "model.add(Conv2D(filters=128, kernel_size=(3,3), activation='relu'))\n",
        "model.add(BatchNormalization())\n",
        "model.add(MaxPool2D(pool_size=(3,3)))\n",
        "\n",
        "model.add(ZeroPadding2D((1,1)))\n",
        "\n",
        "model.add(Conv2D(filters=128, kernel_size=(3,3), activation='relu'))\n",
        "model.add(BatchNormalization())\n",
        "model.add(MaxPool2D(pool_size=(3,3)))\n",
        "\n",
        "model.add(ZeroPadding2D((2,2)))\n",
        "\n",
        "model.add(Conv2D(filters=256, kernel_size=(3,3), activation='relu'))\n",
        "model.add(BatchNormalization())\n",
        "model.add(MaxPool2D(pool_size=(3,3)))\n",
        "\n",
        "\n",
        "\n",
        "model.add(Dropout(0.5))\n",
        "\n",
        "model.add(Flatten())\n",
        "\n",
        "model.add(Dense(4096, activation='relu'))\n",
        "model.add(Dropout(0.5))\n",
        "model.add(Dense(4096, activation='relu'))\n",
        "model.add(Dropout(0.5))\n",
        "\n",
        "model.add(Dense(2, activation = \"softmax\"))"
      ]
    },
    {
      "cell_type": "code",
      "execution_count": 50,
      "metadata": {
        "id": "uOVj4sta9xAA"
      },
      "outputs": [],
      "source": [
        "model.compile(optimizer='adam', loss='categorical_crossentropy', metrics=['accuracy'])"
      ]
    },
    {
      "cell_type": "code",
      "execution_count": 51,
      "metadata": {
        "id": "ehzMMNZP-BGN"
      },
      "outputs": [],
      "source": [
        "callback = [tf.keras.callbacks.EarlyStopping(patience=5, monitor='val_accuracy', restore_best_weights=True),\n",
        "            tf.keras.callbacks.ReduceLROnPlateau(monitor = 'val_loss', patience = 1, factor=0.25, verbose=1)]"
      ]
    },
    {
      "cell_type": "code",
      "execution_count": 52,
      "metadata": {
        "colab": {
          "base_uri": "https://localhost:8080/"
        },
        "id": "6T27b5Rm9250",
        "outputId": "38dcad7e-c761-42e9-b3b7-edb0f0eca366"
      },
      "outputs": [
        {
          "name": "stdout",
          "output_type": "stream",
          "text": [
            "Epoch 1/1000\n",
            "407/407 [==============================] - 26s 61ms/step - loss: 0.6344 - accuracy: 0.8633 - val_loss: 3.2273 - val_accuracy: 0.7322 - lr: 0.0010\n",
            "Epoch 2/1000\n",
            "407/407 [==============================] - 24s 59ms/step - loss: 0.2654 - accuracy: 0.9119 - val_loss: 0.1919 - val_accuracy: 0.9410 - lr: 0.0010\n",
            "Epoch 3/1000\n",
            "407/407 [==============================] - ETA: 0s - loss: 0.2342 - accuracy: 0.9217\n",
            "Epoch 3: ReduceLROnPlateau reducing learning rate to 0.0002500000118743628.\n",
            "407/407 [==============================] - 24s 59ms/step - loss: 0.2342 - accuracy: 0.9217 - val_loss: 0.9446 - val_accuracy: 0.7064 - lr: 0.0010\n",
            "Epoch 4/1000\n",
            "407/407 [==============================] - 24s 59ms/step - loss: 0.1317 - accuracy: 0.9539 - val_loss: 0.1432 - val_accuracy: 0.9472 - lr: 2.5000e-04\n",
            "Epoch 5/1000\n",
            "407/407 [==============================] - ETA: 0s - loss: 0.1139 - accuracy: 0.9619\n",
            "Epoch 5: ReduceLROnPlateau reducing learning rate to 6.25000029685907e-05.\n",
            "407/407 [==============================] - 24s 59ms/step - loss: 0.1139 - accuracy: 0.9619 - val_loss: 0.1549 - val_accuracy: 0.9398 - lr: 2.5000e-04\n",
            "Epoch 6/1000\n",
            "407/407 [==============================] - 24s 59ms/step - loss: 0.0745 - accuracy: 0.9760 - val_loss: 0.0939 - val_accuracy: 0.9644 - lr: 6.2500e-05\n",
            "Epoch 7/1000\n",
            "407/407 [==============================] - ETA: 0s - loss: 0.0706 - accuracy: 0.9773\n",
            "Epoch 7: ReduceLROnPlateau reducing learning rate to 1.5625000742147677e-05.\n",
            "407/407 [==============================] - 24s 59ms/step - loss: 0.0706 - accuracy: 0.9773 - val_loss: 0.0972 - val_accuracy: 0.9644 - lr: 6.2500e-05\n",
            "Epoch 8/1000\n",
            "407/407 [==============================] - 24s 60ms/step - loss: 0.0558 - accuracy: 0.9822 - val_loss: 0.0906 - val_accuracy: 0.9681 - lr: 1.5625e-05\n",
            "Epoch 9/1000\n",
            "407/407 [==============================] - 24s 59ms/step - loss: 0.0553 - accuracy: 0.9825 - val_loss: 0.0874 - val_accuracy: 0.9681 - lr: 1.5625e-05\n",
            "Epoch 10/1000\n",
            "407/407 [==============================] - ETA: 0s - loss: 0.0480 - accuracy: 0.9856\n",
            "Epoch 10: ReduceLROnPlateau reducing learning rate to 3.906250185536919e-06.\n",
            "407/407 [==============================] - 24s 59ms/step - loss: 0.0480 - accuracy: 0.9856 - val_loss: 0.1043 - val_accuracy: 0.9644 - lr: 1.5625e-05\n",
            "Epoch 11/1000\n",
            "407/407 [==============================] - ETA: 0s - loss: 0.0526 - accuracy: 0.9837\n",
            "Epoch 11: ReduceLROnPlateau reducing learning rate to 9.765625463842298e-07.\n",
            "407/407 [==============================] - 24s 60ms/step - loss: 0.0526 - accuracy: 0.9837 - val_loss: 0.0999 - val_accuracy: 0.9668 - lr: 3.9063e-06\n",
            "Epoch 12/1000\n",
            "407/407 [==============================] - ETA: 0s - loss: 0.0440 - accuracy: 0.9859\n",
            "Epoch 12: ReduceLROnPlateau reducing learning rate to 2.4414063659605745e-07.\n",
            "407/407 [==============================] - 24s 60ms/step - loss: 0.0440 - accuracy: 0.9859 - val_loss: 0.1003 - val_accuracy: 0.9668 - lr: 9.7656e-07\n",
            "Epoch 13/1000\n",
            "407/407 [==============================] - ETA: 0s - loss: 0.0438 - accuracy: 0.9856\n",
            "Epoch 13: ReduceLROnPlateau reducing learning rate to 6.103515914901436e-08.\n",
            "407/407 [==============================] - 24s 59ms/step - loss: 0.0438 - accuracy: 0.9856 - val_loss: 0.1003 - val_accuracy: 0.9668 - lr: 2.4414e-07\n"
          ]
        }
      ],
      "source": [
        "history = model.fit(x_train, y_train, batch_size=8, epochs=1000, validation_split=0.2, callbacks=callback)"
      ]
    },
    {
      "cell_type": "markdown",
      "metadata": {
        "id": "p6705Hq2GOsB"
      },
      "source": [
        "# Evaluate data"
      ]
    },
    {
      "cell_type": "markdown",
      "metadata": {
        "id": "St_1QSHkG5bJ"
      },
      "source": [
        "## loss and accuracy plot"
      ]
    },
    {
      "cell_type": "code",
      "execution_count": 60,
      "metadata": {
        "colab": {
          "base_uri": "https://localhost:8080/",
          "height": 594
        },
        "id": "VYy_rJkDsLxF",
        "outputId": "f301cfb6-b868-478b-cd72-885e26cfeadb"
      },
      "outputs": [
        {
          "data": {
            "image/png": "[encoded data removed]",
            "text/plain": [
              "<Figure size 1080x720 with 1 Axes>"
            ]
          },
          "metadata": {},
          "output_type": "display_data"
        }
      ],
      "source": [
        "#plot the accuracy\n",
        "history_df = pd.DataFrame(history.history)\n",
        "plt.plot(history_df['accuracy'], label='accuracy')\n",
        "plt.plot(history_df['val_accuracy'], label='val_accuracy')\n",
        "plt.legend();"
      ]
    },
    {
      "cell_type": "code",
      "execution_count": 61,
      "metadata": {
        "colab": {
          "base_uri": "https://localhost:8080/",
          "height": 594
        },
        "id": "pZKd4FQpsVfd",
        "outputId": "48afebac-1b05-4073-ac45-eb1df1cf40f5"
      },
      "outputs": [
        {
          "data": {
            "image/png": "[encoded data removed]",
            "text/plain": [
              "<Figure size 1080x720 with 1 Axes>"
            ]
          },
          "metadata": {},
          "output_type": "display_data"
        }
      ],
      "source": [
        "#plot the loss\n",
        "history_df = pd.DataFrame(history.history)\n",
        "plt.plot(history_df['loss'], label='loss')\n",
        "plt.plot(history_df['val_loss'], label='val_loss')\n",
        "plt.legend();"
      ]
    },
    {
      "cell_type": "markdown",
      "metadata": {
        "id": "e4doVdigG8en"
      },
      "source": [
        "## Check evalute in train and test data"
      ]
    },
    {
      "cell_type": "code",
      "execution_count": 53,
      "metadata": {
        "colab": {
          "base_uri": "https://localhost:8080/"
        },
        "id": "XdER98egBIHY",
        "outputId": "7480e344-fa1b-41de-c29b-e732e42a5ec5"
      },
      "outputs": [
        {
          "name": "stdout",
          "output_type": "stream",
          "text": [
            "128/128 [==============================] - 8s 57ms/step - loss: 0.0496 - accuracy: 0.9833\n",
            "Train\n",
            "loss : 0.0495695136487484\n",
            "acc : 98.32924008369446\n"
          ]
        }
      ],
      "source": [
        "# Train\n",
        "loss, acc = model.evaluate(x_train, y_train)\n",
        "print('Train')\n",
        "print(f'loss : {loss}')\n",
        "print(f'acc : {acc*100}')"
      ]
    },
    {
      "cell_type": "code",
      "execution_count": 54,
      "metadata": {
        "colab": {
          "base_uri": "https://localhost:8080/"
        },
        "id": "ijtmayLW7AoE",
        "outputId": "3849314d-353d-476c-f475-f8e89e9f7a6a"
      },
      "outputs": [
        {
          "name": "stdout",
          "output_type": "stream",
          "text": [
            "55/55 [==============================] - 3s 62ms/step - loss: 0.1041 - accuracy: 0.9656\n",
            "Test\n",
            "loss : 0.10409772396087646\n",
            "acc : 96.56160473823547\n"
          ]
        }
      ],
      "source": [
        "# Test\n",
        "loss, acc = model.evaluate(xtest, np_utils.to_categorical(ytest))\n",
        "print('Test')\n",
        "print(f'loss : {loss}')\n",
        "print(f'acc : {acc*100}')"
      ]
    },
    {
      "cell_type": "code",
      "execution_count": 55,
      "metadata": {
        "colab": {
          "base_uri": "https://localhost:8080/"
        },
        "id": "uhyXplGH7l3B",
        "outputId": "3b46b244-582d-4f18-e874-b1da1fad15b6"
      },
      "outputs": [
        {
          "data": {
            "text/plain": [
              "array([[1.0000000e+00, 3.0458041e-09],\n",
              "       [1.0000000e+00, 1.0795389e-08],\n",
              "       [3.4046843e-06, 9.9999654e-01],\n",
              "       ...,\n",
              "       [5.8012889e-10, 1.0000000e+00],\n",
              "       [1.9934709e-04, 9.9980062e-01],\n",
              "       [7.2177773e-04, 9.9927825e-01]], dtype=float32)"
            ]
          },
          "execution_count": 55,
          "metadata": {},
          "output_type": "execute_result"
        }
      ],
      "source": [
        "pred = model.predict(xtest)\n",
        "pred"
      ]
    },
    {
      "cell_type": "code",
      "execution_count": 56,
      "metadata": {
        "colab": {
          "base_uri": "https://localhost:8080/"
        },
        "id": "7tvy-pVT7s03",
        "outputId": "d66d926d-10b3-404e-a78b-c32a55464d00"
      },
      "outputs": [
        {
          "data": {
            "text/plain": [
              "array([0, 0, 1, ..., 1, 1, 1])"
            ]
          },
          "execution_count": 56,
          "metadata": {},
          "output_type": "execute_result"
        }
      ],
      "source": [
        "prediction = np.argmax(pred, axis=-1)\n",
        "prediction"
      ]
    },
    {
      "cell_type": "markdown",
      "metadata": {
        "id": "SiS4FbWeGkTa"
      },
      "source": [
        "## Confusion matrix"
      ]
    },
    {
      "cell_type": "code",
      "execution_count": 57,
      "metadata": {
        "colab": {
          "base_uri": "https://localhost:8080/",
          "height": 594
        },
        "id": "O_Zb3bZy9NJV",
        "outputId": "e6fa0fd0-6afd-4c99-fde7-f39b758bf76c"
      },
      "outputs": [
        {
          "data": {
            "image/png": "[encoded data removed]",
            "text/plain": [
              "<Figure size 1080x720 with 2 Axes>"
            ]
          },
          "metadata": {},
          "output_type": "display_data"
        }
      ],
      "source": [
        "sns.heatmap(confusion_matrix(prediction, ytest), annot=True, fmt='1', cmap='Blues');"
      ]
    },
    {
      "cell_type": "markdown",
      "metadata": {
        "id": "RnX6TImZGzVS"
      },
      "source": [
        "## Recall and Precision"
      ]
    },
    {
      "cell_type": "code",
      "execution_count": 58,
      "metadata": {
        "colab": {
          "base_uri": "https://localhost:8080/"
        },
        "id": "8AeVuhFEEnr8",
        "outputId": "3eec2ce0-235a-4768-9a42-ba1d354fde37"
      },
      "outputs": [
        {
          "name": "stdout",
          "output_type": "stream",
          "text": [
            "Model Recall score  : 0.9656\n",
            "Model Precision  : 0.9655\n"
          ]
        }
      ],
      "source": [
        "print('Model Recall score  : {0:0.4f}'. format(recall_score(ytest, prediction,average='weighted')))\n",
        "print('Model Precision  : {0:0.4f}'. format(precision_score(ytest, prediction,average='weighted')))"
      ]
    },
    {
      "cell_type": "code",
      "execution_count": 59,
      "metadata": {
        "colab": {
          "base_uri": "https://localhost:8080/"
        },
        "id": "8iYxQEnJ8wX3",
        "outputId": "d63e8d59-0c32-41e1-ba12-e1b9f85e5d1c"
      },
      "outputs": [
        {
          "name": "stdout",
          "output_type": "stream",
          "text": [
            "              precision    recall  f1-score   support\n",
            "\n",
            "           0       0.94      0.93      0.94       475\n",
            "           1       0.97      0.98      0.98      1270\n",
            "\n",
            "    accuracy                           0.97      1745\n",
            "   macro avg       0.96      0.95      0.96      1745\n",
            "weighted avg       0.97      0.97      0.97      1745\n",
            "\n"
          ]
        }
      ],
      "source": [
        "print(classification_report(ytest,prediction))"
      ]
    },
    {
      "cell_type": "code",
      "execution_count": null,
      "metadata": {
        "id": "OG6xf_j6_fhD"
      },
      "outputs": [],
      "source": []
    }
  ],
  "metadata": {
    "accelerator": "GPU",
    "colab": {
      "collapsed_sections": [],
      "name": "Get_high_accuracy_(96.56).ipynb",
      "provenance": []
    },
    "interpreter": {
      "hash": "4ac99a89178b347d2ddb51d1067ae4321247bd0ad96f9f2868f86d66c397a5fc"
    },
    "kernelspec": {
      "display_name": "Python 3.10.2 64-bit",
      "language": "python",
      "name": "python3"
    },
    "language_info": {
      "codemirror_mode": {
        "name": "ipython",
        "version": 3
      },
      "file_extension": ".py",
      "mimetype": "text/x-python",
      "name": "python",
      "nbconvert_exporter": "python",
      "pygments_lexer": "ipython3",
      "version": "3.10.2"
    },
    "orig_nbformat": 4
  },
  "nbformat": 4,
  "nbformat_minor": 0
}
