{
  "cells": [
    {
      "cell_type": "markdown",
      "source": [
        "## Connect to drive"
      ],
      "metadata": {
        "id": "NQiOlTihFhgB"
      }
    },
    {
      "cell_type": "code",
      "source": [
        "from google.colab import drive\n",
        "drive.mount('/gdrive')\n",
        "%cd /gdrive"
      ],
      "metadata": {
        "colab": {
          "base_uri": "https://localhost:8080/"
        },
        "id": "axLYRKIoiVp-",
        "outputId": "e20d8601-e43c-4c41-f67c-f65e883c7a10"
      },
      "execution_count": 1,
      "outputs": [
        {
          "output_type": "stream",
          "name": "stdout",
          "text": [
            "Mounted at /gdrive\n",
            "/gdrive\n"
          ]
        }
      ]
    },
    {
      "cell_type": "markdown",
      "source": [
        "## libraries"
      ],
      "metadata": {
        "id": "HIiKYilvFkgQ"
      }
    },
    {
      "cell_type": "code",
      "execution_count": 79,
      "metadata": {
        "id": "XHHEJIVNffmD"
      },
      "outputs": [],
      "source": [
        "import numpy as np\n",
        "import pandas as pd\n",
        "import os\n",
        "import seaborn as sns\n",
        "import cv2\n",
        "from tqdm import tqdm\n",
        "from PIL import Image\n",
        "import glob as gb\n",
        "from keras.preprocessing.image import ImageDataGenerator\n",
        "from tensorflow.keras import layers, models\n",
        "from sklearn.model_selection import train_test_split\n",
        "from keras.utils import np_utils\n",
        "import matplotlib.pyplot as plt\n",
        "from tensorflow.keras.layers import MaxPooling2D, Conv2D, MaxPool2D, Dense, Flatten, Input, BatchNormalization, Dropout\n",
        "import tensorflow as tf\n",
        "from sklearn.metrics import classification_report, confusion_matrix, accuracy_score, f1_score, precision_score, recall_score\n",
        "sns.set(rc={'figure.figsize':(15,10)})"
      ]
    },
    {
      "cell_type": "markdown",
      "source": [
        "## get data from drive and append it to list"
      ],
      "metadata": {
        "id": "yrt3vfggE7P3"
      }
    },
    {
      "cell_type": "code",
      "source": [
        "x = []\n",
        "y = []"
      ],
      "metadata": {
        "id": "oMdUC2km5E77"
      },
      "execution_count": 53,
      "outputs": []
    },
    {
      "cell_type": "code",
      "execution_count": 54,
      "metadata": {
        "colab": {
          "base_uri": "https://localhost:8080/"
        },
        "id": "kXgEUm4fffmJ",
        "outputId": "0bd93c92-fadf-4994-f157-3bbefdc3eb28"
      },
      "outputs": [
        {
          "output_type": "stream",
          "name": "stdout",
          "text": [
            "paper\n",
            "rock\n",
            "scissors\n"
          ]
        }
      ],
      "source": [
        "idx = 0\n",
        "class_label = 0\n",
        "test = '/gdrive/My Drive/paper-rock-scissors/train/'\n",
        "for folder in  os.listdir(test):\n",
        "    print(folder)\n",
        "    files = gb.glob(pathname=str( test + folder + '/*.png'))\n",
        "    # print(files)\n",
        "    for image in files:\n",
        "        # print(image)\n",
        "        im = Image.open(image)\n",
        "        data = np.array(im)\n",
        "        data = data[:,:,0]\n",
        "        image_array = cv2.resize(data , (227,227))\n",
        "        x.append(list(image_array))\n",
        "        y.append(class_label)\n",
        "        idx = idx + 1\n",
        "    class_label = class_label + 1"
      ]
    },
    {
      "cell_type": "code",
      "execution_count": 55,
      "metadata": {
        "colab": {
          "base_uri": "https://localhost:8080/"
        },
        "id": "8wxCWxljffmL",
        "outputId": "cd8ee5cd-4e2c-4899-a2a4-a66be93529d0"
      },
      "outputs": [
        {
          "output_type": "stream",
          "name": "stdout",
          "text": [
            "scissors\n",
            "paper\n",
            "rock\n"
          ]
        }
      ],
      "source": [
        "idx = 0\n",
        "class_label = 0\n",
        "test = \"/gdrive/My Drive/paper-rock-scissors/test/\"\n",
        "for folder in  os.listdir(test):\n",
        "    print(folder)\n",
        "    files = gb.glob(pathname=str( test + folder + '/*.png'))\n",
        "    # print(files)\n",
        "    for image in files:\n",
        "        # print(image)\n",
        "        im = Image.open(image)\n",
        "        data = np.array(im)\n",
        "        data = data[:,:,0]\n",
        "        image_array = cv2.resize(data , (227,227))\n",
        "        x.append(list(image_array))\n",
        "        y.append(class_label)\n",
        "        idx = idx + 1\n",
        "    class_label = class_label + 1"
      ]
    },
    {
      "cell_type": "markdown",
      "source": [
        "## Convert to numpy array"
      ],
      "metadata": {
        "id": "qduAlZwKF0_J"
      }
    },
    {
      "cell_type": "code",
      "source": [
        "x = np.array(x)\n",
        "y = np.array(y)\n",
        "print(x.shape)\n",
        "print(y.shape)"
      ],
      "metadata": {
        "colab": {
          "base_uri": "https://localhost:8080/"
        },
        "id": "Qn9RTscPGfQa",
        "outputId": "b0ab8bf7-f293-4e4a-8f9e-ad22aa978bea"
      },
      "execution_count": 56,
      "outputs": [
        {
          "output_type": "stream",
          "name": "stdout",
          "text": [
            "(2188, 227, 227)\n",
            "(2188,)\n"
          ]
        }
      ]
    },
    {
      "cell_type": "markdown",
      "source": [
        "# Scale"
      ],
      "metadata": {
        "id": "oI3DRtZwF3ZJ"
      }
    },
    {
      "cell_type": "code",
      "execution_count": 57,
      "metadata": {
        "id": "22WlwmdvffmN"
      },
      "outputs": [],
      "source": [
        "x = x/255"
      ]
    },
    {
      "cell_type": "code",
      "source": [
        "y"
      ],
      "metadata": {
        "colab": {
          "base_uri": "https://localhost:8080/"
        },
        "id": "Ymo4eCHPA6eP",
        "outputId": "59832a6f-5ec7-48be-b43c-a75bfe71d8d8"
      },
      "execution_count": 59,
      "outputs": [
        {
          "output_type": "execute_result",
          "data": {
            "text/plain": [
              "array([0, 0, 0, ..., 2, 2, 2])"
            ]
          },
          "metadata": {},
          "execution_count": 59
        }
      ]
    },
    {
      "cell_type": "markdown",
      "source": [
        "## Split data"
      ],
      "metadata": {
        "id": "fagCWCUkF7EY"
      }
    },
    {
      "cell_type": "code",
      "source": [
        "x_train, xtest, y_train, ytest = train_test_split(x, y, test_size=0.3, random_state=42, stratify=y)"
      ],
      "metadata": {
        "id": "HJ_k1eQO7qJL"
      },
      "execution_count": 60,
      "outputs": []
    },
    {
      "cell_type": "markdown",
      "source": [
        "# apply dummy to y_train "
      ],
      "metadata": {
        "id": "0F0qldY6F9Zx"
      }
    },
    {
      "cell_type": "code",
      "source": [
        "y_train = np_utils.to_categorical(y_train)"
      ],
      "metadata": {
        "id": "g-OHboeF-cmM"
      },
      "execution_count": 61,
      "outputs": []
    },
    {
      "cell_type": "code",
      "source": [
        "y_train"
      ],
      "metadata": {
        "colab": {
          "base_uri": "https://localhost:8080/"
        },
        "id": "XL9lzxZf-pGU",
        "outputId": "ad7fc8f5-9a78-4be8-cf7b-cb4db2e8d77c"
      },
      "execution_count": 62,
      "outputs": [
        {
          "output_type": "execute_result",
          "data": {
            "text/plain": [
              "array([[0., 1., 0.],\n",
              "       [0., 0., 1.],\n",
              "       [1., 0., 0.],\n",
              "       ...,\n",
              "       [0., 1., 0.],\n",
              "       [0., 0., 1.],\n",
              "       [1., 0., 0.]], dtype=float32)"
            ]
          },
          "metadata": {},
          "execution_count": 62
        }
      ]
    },
    {
      "cell_type": "markdown",
      "source": [
        "## Model architecture"
      ],
      "metadata": {
        "id": "HZqU1QBWGD3f"
      }
    },
    {
      "cell_type": "code",
      "source": [
        "model = models.Sequential()\n",
        "\n",
        "model.add(Input(shape=(227, 227, 1)))\n",
        "\n",
        "model.add(Conv2D(filters=64, kernel_size=(3,3), activation='relu'))\n",
        "model.add(BatchNormalization())\n",
        "model.add(MaxPool2D(pool_size=(3,3)))\n",
        "\n",
        "model.add(Conv2D(filters=64, kernel_size=(3,3), activation='relu'))\n",
        "model.add(BatchNormalization())\n",
        "model.add(MaxPool2D(pool_size=(3,3)))\n",
        "\n",
        "model.add(Dropout(0.5))\n",
        "\n",
        "model.add(Flatten())\n",
        "\n",
        "model.add(Dense(3, activation = \"softmax\"))\n",
        "optimizer = tf.keras.optimizers.Adam(learning_rate=0.0003)\n",
        "\n",
        "model.compile(optimizer = optimizer, loss = \"categorical_crossentropy\", metrics=[\"accuracy\"])"
      ],
      "metadata": {
        "id": "ZausHvGsIT0v"
      },
      "execution_count": 63,
      "outputs": []
    },
    {
      "cell_type": "code",
      "source": [
        "history = model.fit(x_train,y_train, batch_size= 10, epochs = 30)"
      ],
      "metadata": {
        "colab": {
          "base_uri": "https://localhost:8080/"
        },
        "id": "-7utjfo3Jg5p",
        "outputId": "b2a90cd9-8f8d-4b80-d923-83f70dd715d4"
      },
      "execution_count": 64,
      "outputs": [
        {
          "output_type": "stream",
          "name": "stdout",
          "text": [
            "Epoch 1/30\n",
            "154/154 [==============================] - 8s 47ms/step - loss: 1.5546 - accuracy: 0.6688\n",
            "Epoch 2/30\n",
            "154/154 [==============================] - 7s 46ms/step - loss: 1.2656 - accuracy: 0.7472\n",
            "Epoch 3/30\n",
            "154/154 [==============================] - 7s 46ms/step - loss: 1.2800 - accuracy: 0.7688\n",
            "Epoch 4/30\n",
            "154/154 [==============================] - 7s 46ms/step - loss: 0.9233 - accuracy: 0.8106\n",
            "Epoch 5/30\n",
            "154/154 [==============================] - 7s 46ms/step - loss: 0.8473 - accuracy: 0.8256\n",
            "Epoch 6/30\n",
            "154/154 [==============================] - 7s 46ms/step - loss: 0.9597 - accuracy: 0.8191\n",
            "Epoch 7/30\n",
            "154/154 [==============================] - 7s 46ms/step - loss: 0.7692 - accuracy: 0.8491\n",
            "Epoch 8/30\n",
            "154/154 [==============================] - 7s 46ms/step - loss: 0.9420 - accuracy: 0.8178\n",
            "Epoch 9/30\n",
            "154/154 [==============================] - 7s 47ms/step - loss: 0.8130 - accuracy: 0.8543\n",
            "Epoch 10/30\n",
            "154/154 [==============================] - 7s 46ms/step - loss: 0.8359 - accuracy: 0.8648\n",
            "Epoch 11/30\n",
            "154/154 [==============================] - 7s 46ms/step - loss: 0.5332 - accuracy: 0.8779\n",
            "Epoch 12/30\n",
            "154/154 [==============================] - 7s 46ms/step - loss: 0.7201 - accuracy: 0.8720\n",
            "Epoch 13/30\n",
            "154/154 [==============================] - 7s 46ms/step - loss: 0.5096 - accuracy: 0.8929\n",
            "Epoch 14/30\n",
            "154/154 [==============================] - 7s 46ms/step - loss: 0.7645 - accuracy: 0.8687\n",
            "Epoch 15/30\n",
            "154/154 [==============================] - 7s 46ms/step - loss: 0.4084 - accuracy: 0.9203\n",
            "Epoch 16/30\n",
            "154/154 [==============================] - 7s 46ms/step - loss: 0.4904 - accuracy: 0.8981\n",
            "Epoch 17/30\n",
            "154/154 [==============================] - 7s 46ms/step - loss: 0.3699 - accuracy: 0.9144\n",
            "Epoch 18/30\n",
            "154/154 [==============================] - 7s 46ms/step - loss: 0.5409 - accuracy: 0.8975\n",
            "Epoch 19/30\n",
            "154/154 [==============================] - 7s 46ms/step - loss: 0.4796 - accuracy: 0.9046\n",
            "Epoch 20/30\n",
            "154/154 [==============================] - 7s 46ms/step - loss: 0.3804 - accuracy: 0.9112\n",
            "Epoch 21/30\n",
            "154/154 [==============================] - 7s 46ms/step - loss: 0.4082 - accuracy: 0.9190\n",
            "Epoch 22/30\n",
            "154/154 [==============================] - 7s 46ms/step - loss: 0.3041 - accuracy: 0.9406\n",
            "Epoch 23/30\n",
            "154/154 [==============================] - 7s 46ms/step - loss: 0.3359 - accuracy: 0.9360\n",
            "Epoch 24/30\n",
            "154/154 [==============================] - 7s 46ms/step - loss: 0.2755 - accuracy: 0.9373\n",
            "Epoch 25/30\n",
            "154/154 [==============================] - 7s 46ms/step - loss: 0.3407 - accuracy: 0.9282\n",
            "Epoch 26/30\n",
            "154/154 [==============================] - 7s 46ms/step - loss: 0.2039 - accuracy: 0.9530\n",
            "Epoch 27/30\n",
            "154/154 [==============================] - 7s 45ms/step - loss: 0.2317 - accuracy: 0.9471\n",
            "Epoch 28/30\n",
            "154/154 [==============================] - 7s 46ms/step - loss: 0.2376 - accuracy: 0.9484\n",
            "Epoch 29/30\n",
            "154/154 [==============================] - 7s 46ms/step - loss: 0.2820 - accuracy: 0.9412\n",
            "Epoch 30/30\n",
            "154/154 [==============================] - 7s 46ms/step - loss: 0.2219 - accuracy: 0.9549\n"
          ]
        }
      ]
    },
    {
      "cell_type": "markdown",
      "source": [
        "# Evaluate data"
      ],
      "metadata": {
        "id": "p6705Hq2GOsB"
      }
    },
    {
      "cell_type": "markdown",
      "source": [
        "## loss and accuracy plot"
      ],
      "metadata": {
        "id": "St_1QSHkG5bJ"
      }
    },
    {
      "cell_type": "code",
      "source": [
        "#plot the accuracy\n",
        "history_df = pd.DataFrame(history.history)\n",
        "plt.plot(history_df['accuracy'], label='accuracy')\n",
        "plt.legend();"
      ],
      "metadata": {
        "colab": {
          "base_uri": "https://localhost:8080/",
          "height": 282
        },
        "id": "VYy_rJkDsLxF",
        "outputId": "1b90f1a4-cf59-4170-acb8-4a898e415f0f"
      },
      "execution_count": 65,
      "outputs": [
        {
          "output_type": "execute_result",
          "data": {
            "text/plain": [
              "<matplotlib.legend.Legend at 0x7f458751f210>"
            ]
          },
          "metadata": {},
          "execution_count": 65
        },
        {
          "output_type": "display_data",
          "data": {
            "text/plain": [
              "<Figure size 432x288 with 1 Axes>"
            ],
            "image/png": "[encoded data removed]"
          },
          "metadata": {
            "needs_background": "light"
          }
        }
      ]
    },
    {
      "cell_type": "code",
      "source": [
        "#plot the loss\n",
        "history_df = pd.DataFrame(history.history)\n",
        "plt.plot(history_df['loss'], label='loss')\n",
        "plt.legend()"
      ],
      "metadata": {
        "id": "pZKd4FQpsVfd",
        "colab": {
          "base_uri": "https://localhost:8080/",
          "height": 283
        },
        "outputId": "731f587f-c28a-43f7-db35-73b65d7d5a9f"
      },
      "execution_count": 66,
      "outputs": [
        {
          "output_type": "execute_result",
          "data": {
            "text/plain": [
              "<matplotlib.legend.Legend at 0x7f4586fd4910>"
            ]
          },
          "metadata": {},
          "execution_count": 66
        },
        {
          "output_type": "display_data",
          "data": {
            "text/plain": [
              "<Figure size 432x288 with 1 Axes>"
            ],
            "image/png": "[encoded data removed]"
          },
          "metadata": {
            "needs_background": "light"
          }
        }
      ]
    },
    {
      "cell_type": "markdown",
      "source": [
        "## Check evalute in train and test data"
      ],
      "metadata": {
        "id": "e4doVdigG8en"
      }
    },
    {
      "cell_type": "code",
      "source": [
        "# Train\n",
        "loss, acc = model.evaluate(x_train, y_train)\n",
        "print('Train')\n",
        "print(f'loss : {loss}')\n",
        "print(f'acc : {acc*100}')"
      ],
      "metadata": {
        "colab": {
          "base_uri": "https://localhost:8080/"
        },
        "id": "XdER98egBIHY",
        "outputId": "3b5b30f7-5d60-4235-aca0-9209bcd2b792"
      },
      "execution_count": 87,
      "outputs": [
        {
          "output_type": "stream",
          "name": "stdout",
          "text": [
            "48/48 [==============================] - 3s 53ms/step - loss: 0.2672 - accuracy: 0.9628\n",
            "Train\n",
            "loss : 0.2672003507614136\n",
            "acc : 96.27694487571716\n"
          ]
        }
      ]
    },
    {
      "cell_type": "code",
      "source": [
        "# Test\n",
        "loss, acc = model.evaluate(xtest, np_utils.to_categorical(ytest))\n",
        "print('Test')\n",
        "print(f'loss : {loss}')\n",
        "print(f'acc : {acc*100}')"
      ],
      "metadata": {
        "colab": {
          "base_uri": "https://localhost:8080/"
        },
        "id": "ijtmayLW7AoE",
        "outputId": "48a8a2d1-b7c9-4d52-d854-65dce64bd329"
      },
      "execution_count": 88,
      "outputs": [
        {
          "output_type": "stream",
          "name": "stdout",
          "text": [
            "21/21 [==============================] - 1s 53ms/step - loss: 3.2436 - accuracy: 0.7793\n",
            "Test\n",
            "loss : 3.243635654449463\n",
            "acc : 77.92998552322388\n"
          ]
        }
      ]
    },
    {
      "cell_type": "code",
      "source": [
        "pred = model.predict(xtest)\n",
        "pred"
      ],
      "metadata": {
        "colab": {
          "base_uri": "https://localhost:8080/"
        },
        "id": "uhyXplGH7l3B",
        "outputId": "98744856-b0a0-4899-ee01-1aed66008119"
      },
      "execution_count": 70,
      "outputs": [
        {
          "output_type": "execute_result",
          "data": {
            "text/plain": [
              "array([[1.05346836e-01, 7.98240781e-01, 9.64123756e-02],\n",
              "       [9.80910718e-01, 6.47208863e-14, 1.90893356e-02],\n",
              "       [9.99986291e-01, 4.62659273e-06, 9.06383866e-06],\n",
              "       ...,\n",
              "       [1.05020161e-08, 1.51489377e-02, 9.84851062e-01],\n",
              "       [3.61682120e-29, 4.41847715e-28, 1.00000000e+00],\n",
              "       [1.26067548e-07, 9.95050251e-01, 4.94965492e-03]], dtype=float32)"
            ]
          },
          "metadata": {},
          "execution_count": 70
        }
      ]
    },
    {
      "cell_type": "code",
      "source": [
        "prediction = np.argmax(pred, axis=-1)\n",
        "prediction"
      ],
      "metadata": {
        "colab": {
          "base_uri": "https://localhost:8080/"
        },
        "id": "7tvy-pVT7s03",
        "outputId": "22ce1dc0-58fe-4271-ff35-297e638a8066"
      },
      "execution_count": 71,
      "outputs": [
        {
          "output_type": "execute_result",
          "data": {
            "text/plain": [
              "array([1, 0, 0, 0, 0, 0, 2, 1, 1, 2, 0, 1, 2, 2, 0, 2, 1, 2, 1, 2, 2, 0,\n",
              "       0, 1, 1, 2, 0, 1, 2, 2, 0, 1, 0, 1, 2, 1, 0, 2, 1, 1, 2, 1, 0, 2,\n",
              "       0, 2, 2, 0, 2, 0, 2, 1, 2, 0, 2, 1, 2, 1, 2, 0, 1, 2, 0, 1, 0, 2,\n",
              "       1, 0, 1, 2, 2, 2, 2, 2, 2, 1, 0, 2, 2, 0, 1, 1, 1, 0, 2, 0, 2, 2,\n",
              "       2, 1, 0, 0, 0, 1, 1, 2, 0, 1, 1, 2, 2, 2, 0, 0, 2, 2, 2, 1, 1, 1,\n",
              "       2, 1, 0, 1, 2, 0, 2, 2, 1, 2, 1, 0, 2, 1, 2, 2, 2, 2, 1, 2, 1, 0,\n",
              "       1, 1, 1, 2, 2, 2, 2, 2, 1, 1, 2, 1, 2, 0, 1, 1, 0, 1, 2, 1, 1, 1,\n",
              "       1, 2, 0, 2, 1, 2, 0, 2, 1, 2, 2, 2, 1, 1, 1, 0, 0, 0, 0, 2, 0, 2,\n",
              "       0, 0, 1, 1, 2, 0, 1, 1, 1, 1, 1, 1, 1, 1, 2, 1, 1, 2, 2, 1, 2, 0,\n",
              "       1, 0, 2, 0, 0, 2, 0, 2, 2, 1, 1, 1, 2, 1, 2, 2, 2, 2, 1, 2, 0, 0,\n",
              "       0, 2, 2, 1, 2, 0, 1, 2, 0, 0, 2, 1, 1, 1, 0, 1, 2, 0, 0, 2, 1, 2,\n",
              "       2, 1, 2, 1, 1, 2, 2, 1, 2, 2, 1, 2, 0, 0, 1, 0, 1, 2, 2, 1, 0, 0,\n",
              "       2, 0, 2, 2, 2, 2, 0, 1, 2, 1, 0, 0, 0, 0, 0, 2, 2, 1, 1, 0, 2, 0,\n",
              "       0, 1, 1, 1, 2, 2, 1, 2, 2, 1, 0, 0, 0, 2, 1, 2, 0, 0, 0, 2, 0, 2,\n",
              "       2, 0, 1, 2, 1, 1, 0, 2, 0, 0, 1, 1, 2, 2, 0, 0, 2, 0, 1, 2, 0, 0,\n",
              "       0, 1, 0, 1, 0, 1, 2, 2, 2, 2, 2, 0, 1, 2, 2, 2, 0, 0, 1, 2, 0, 0,\n",
              "       0, 1, 2, 1, 2, 2, 0, 0, 0, 0, 2, 1, 0, 0, 2, 2, 0, 1, 1, 0, 1, 1,\n",
              "       2, 0, 1, 0, 2, 2, 1, 0, 2, 2, 1, 2, 1, 0, 2, 1, 2, 1, 0, 2, 2, 1,\n",
              "       2, 1, 1, 1, 1, 0, 2, 2, 2, 2, 2, 1, 2, 0, 1, 2, 2, 0, 2, 1, 1, 1,\n",
              "       2, 1, 1, 2, 2, 1, 2, 0, 0, 0, 1, 2, 1, 2, 1, 0, 2, 1, 2, 2, 1, 0,\n",
              "       1, 1, 0, 0, 2, 2, 2, 0, 0, 1, 1, 0, 0, 2, 2, 2, 1, 2, 1, 1, 2, 0,\n",
              "       1, 1, 2, 2, 1, 0, 1, 1, 0, 2, 2, 1, 1, 1, 2, 2, 1, 2, 0, 1, 0, 2,\n",
              "       1, 0, 2, 1, 2, 2, 0, 2, 2, 0, 0, 1, 1, 1, 0, 0, 2, 0, 1, 1, 2, 1,\n",
              "       1, 0, 0, 1, 0, 1, 2, 2, 2, 0, 0, 2, 2, 2, 0, 2, 1, 2, 2, 1, 2, 1,\n",
              "       0, 1, 2, 0, 0, 2, 0, 1, 1, 2, 1, 2, 0, 1, 0, 2, 2, 1, 1, 1, 1, 0,\n",
              "       1, 2, 0, 2, 0, 1, 1, 2, 1, 2, 1, 2, 1, 1, 2, 0, 2, 2, 2, 0, 1, 2,\n",
              "       1, 2, 0, 2, 2, 1, 1, 2, 1, 2, 1, 1, 2, 2, 1, 0, 2, 2, 0, 2, 1, 1,\n",
              "       1, 0, 2, 2, 0, 2, 2, 2, 2, 0, 2, 0, 2, 2, 1, 1, 2, 2, 0, 1, 1, 2,\n",
              "       1, 0, 0, 2, 0, 0, 2, 0, 1, 2, 1, 1, 2, 2, 1, 2, 2, 2, 1, 0, 2, 2,\n",
              "       1, 2, 2, 2, 2, 1, 1, 2, 0, 2, 2, 2, 1, 0, 0, 0, 2, 2, 1])"
            ]
          },
          "metadata": {},
          "execution_count": 71
        }
      ]
    },
    {
      "cell_type": "markdown",
      "source": [
        "## Confusion matrix"
      ],
      "metadata": {
        "id": "SiS4FbWeGkTa"
      }
    },
    {
      "cell_type": "code",
      "source": [
        "sns.heatmap(confusion_matrix(prediction, ytest), annot=True, fmt='1', cmap='Blues');"
      ],
      "metadata": {
        "colab": {
          "base_uri": "https://localhost:8080/",
          "height": 594
        },
        "id": "O_Zb3bZy9NJV",
        "outputId": "68970dde-1791-4de8-8659-fa00635a02cd"
      },
      "execution_count": 92,
      "outputs": [
        {
          "output_type": "display_data",
          "data": {
            "text/plain": [
              "<Figure size 1080x720 with 2 Axes>"
            ],
            "image/png": "[encoded data removed]"
          },
          "metadata": {}
        }
      ]
    },
    {
      "cell_type": "markdown",
      "source": [
        "## Recall and Precision"
      ],
      "metadata": {
        "id": "RnX6TImZGzVS"
      }
    },
    {
      "cell_type": "code",
      "source": [
        "print('Model Recall score  : {0:0.4f}'. format(recall_score(ytest, prediction,average='weighted')))\n",
        "print('Model Precision  : {0:0.4f}'. format(precision_score(ytest, prediction,average='weighted')))"
      ],
      "metadata": {
        "id": "8AeVuhFEEnr8",
        "colab": {
          "base_uri": "https://localhost:8080/"
        },
        "outputId": "a6e9f1da-f930-46be-8c6d-df09f7669925"
      },
      "execution_count": 83,
      "outputs": [
        {
          "output_type": "stream",
          "name": "stdout",
          "text": [
            "Model Recall score  : 0.7793\n",
            "Model Precision  : 0.7845\n"
          ]
        }
      ]
    },
    {
      "cell_type": "code",
      "source": [
        "print(classification_report(ytest,prediction))"
      ],
      "metadata": {
        "colab": {
          "base_uri": "https://localhost:8080/"
        },
        "id": "8iYxQEnJ8wX3",
        "outputId": "df94af7c-6ceb-4e6a-b39e-995474080618"
      },
      "execution_count": 84,
      "outputs": [
        {
          "output_type": "stream",
          "name": "stdout",
          "text": [
            "              precision    recall  f1-score   support\n",
            "\n",
            "           0       0.82      0.68      0.74       214\n",
            "           1       0.80      0.80      0.80       218\n",
            "           2       0.73      0.86      0.79       225\n",
            "\n",
            "    accuracy                           0.78       657\n",
            "   macro avg       0.79      0.78      0.78       657\n",
            "weighted avg       0.78      0.78      0.78       657\n",
            "\n"
          ]
        }
      ]
    },
    {
      "cell_type": "code",
      "source": [
        ""
      ],
      "metadata": {
        "id": "VxIF0VCfA90q"
      },
      "execution_count": null,
      "outputs": []
    }
  ],
  "metadata": {
    "interpreter": {
      "hash": "4ac99a89178b347d2ddb51d1067ae4321247bd0ad96f9f2868f86d66c397a5fc"
    },
    "kernelspec": {
      "display_name": "Python 3.10.2 64-bit",
      "language": "python",
      "name": "python3"
    },
    "language_info": {
      "codemirror_mode": {
        "name": "ipython",
        "version": 3
      },
      "file_extension": ".py",
      "mimetype": "text/x-python",
      "name": "python",
      "nbconvert_exporter": "python",
      "pygments_lexer": "ipython3",
      "version": "3.10.2"
    },
    "orig_nbformat": 4,
    "colab": {
      "name": "Selected like paper.ipynb",
      "provenance": [],
      "collapsed_sections": []
    },
    "accelerator": "GPU"
  },
  "nbformat": 4,
  "nbformat_minor": 0
}